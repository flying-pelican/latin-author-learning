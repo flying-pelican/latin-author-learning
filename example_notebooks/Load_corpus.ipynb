{
 "cells": [
  {
   "cell_type": "code",
   "execution_count": 1,
   "id": "590242bd-9011-4db4-8f0a-07812b2d7545",
   "metadata": {},
   "outputs": [],
   "source": [
    "from cltk.data.fetch import FetchCorpus"
   ]
  },
  {
   "cell_type": "code",
   "execution_count": 3,
   "id": "f5841aa1-a0d5-470b-9c06-ca0807a55e97",
   "metadata": {},
   "outputs": [],
   "source": [
    "corpus_downloader = FetchCorpus(language='lat')\n",
    "\n",
    "corpus_downloader.import_corpus('lat_models_cltk')"
   ]
  },
  {
   "cell_type": "code",
   "execution_count": 4,
   "id": "a03b5974-fbc1-4092-8254-5fa46e07e9f5",
   "metadata": {},
   "outputs": [
    {
     "data": {
      "text/plain": [
       "[{'type': 'text',\n",
       "  'name': 'lat_text_perseus',\n",
       "  'origin': 'https://github.com/cltk/lat_text_perseus.git'},\n",
       " {'name': 'lat_treebank_perseus',\n",
       "  'origin': 'https://github.com/cltk/lat_treebank_perseus.git',\n",
       "  'type': 'treebank'},\n",
       " {'name': 'lat_text_latin_library',\n",
       "  'origin': 'https://github.com/cltk/lat_text_latin_library.git',\n",
       "  'type': 'text'},\n",
       " {'location': 'local', 'name': 'phi5', 'origin': None, 'type': 'text'},\n",
       " {'origin': None, 'name': 'phi7', 'location': 'local', 'type': 'text'},\n",
       " {'name': 'latin_proper_names_cltk',\n",
       "  'origin': 'https://github.com/cltk/latin_proper_names_cltk.git',\n",
       "  'type': 'lexicon'},\n",
       " {'origin': 'https://github.com/cltk/lat_models_cltk.git',\n",
       "  'name': 'lat_models_cltk',\n",
       "  'type': 'model'},\n",
       " {'name': 'latin_pos_lemmata_cltk',\n",
       "  'origin': 'https://github.com/cltk/latin_pos_lemmata_cltk.git',\n",
       "  'type': 'lemma'},\n",
       " {'name': 'latin_treebank_index_thomisticus',\n",
       "  'origin': 'https://github.com/cltk/latin_treebank_index_thomisticus.git',\n",
       "  'type': 'treebank'},\n",
       " {'name': 'latin_lexica_perseus',\n",
       "  'origin': 'https://github.com/cltk/latin_lexica_perseus.git',\n",
       "  'type': 'lexicon'},\n",
       " {'name': 'latin_training_set_sentence_cltk',\n",
       "  'origin': 'https://github.com/cltk/latin_training_set_sentence_cltk.git',\n",
       "  'type': 'training_set'},\n",
       " {'origin': 'https://github.com/cltk/latin_word2vec_cltk.git',\n",
       "  'name': 'latin_word2vec_cltk',\n",
       "  'type': 'model'},\n",
       " {'type': 'text',\n",
       "  'name': 'latin_text_antique_digiliblt',\n",
       "  'origin': 'https://github.com/cltk/latin_text_antique_digiliblt.git'},\n",
       " {'type': 'text',\n",
       "  'name': 'latin_text_corpus_grammaticorum_latinorum',\n",
       "  'origin': 'https://github.com/cltk/latin_text_corpus_grammaticorum_latinorum.git'},\n",
       " {'type': 'text',\n",
       "  'name': 'latin_text_poeti_ditalia',\n",
       "  'origin': 'https://github.com/cltk/latin_text_poeti_ditalia.git'},\n",
       " {'name': 'lat_text_tesserae',\n",
       "  'origin': 'https://github.com/cltk/lat_text_tesserae.git',\n",
       "  'type': 'text'},\n",
       " {'type': 'lexicon',\n",
       "  'name': 'cltk_lat_lewis_elementary_lexicon',\n",
       "  'origin': 'https://github.com/cltk/cltk_lat_lewis_elementary_lexicon.git'}]"
      ]
     },
     "execution_count": 4,
     "metadata": {},
     "output_type": "execute_result"
    }
   ],
   "source": [
    "corpus_downloader.all_corpora_for_lang"
   ]
  },
  {
   "cell_type": "code",
   "execution_count": null,
   "id": "6d021e0d-b193-4b0e-8090-f3085bb69692",
   "metadata": {},
   "outputs": [],
   "source": []
  }
 ],
 "metadata": {
  "kernelspec": {
   "display_name": "Python 3 (ipykernel)",
   "language": "python",
   "name": "python3"
  },
  "language_info": {
   "codemirror_mode": {
    "name": "ipython",
    "version": 3
   },
   "file_extension": ".py",
   "mimetype": "text/x-python",
   "name": "python",
   "nbconvert_exporter": "python",
   "pygments_lexer": "ipython3",
   "version": "3.9.10"
  }
 },
 "nbformat": 4,
 "nbformat_minor": 5
}
