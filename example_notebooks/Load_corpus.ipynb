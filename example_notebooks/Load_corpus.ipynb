{
 "cells": [
  {
   "cell_type": "code",
   "execution_count": 2,
   "id": "590242bd-9011-4db4-8f0a-07812b2d7545",
   "metadata": {},
   "outputs": [],
   "source": [
    "from cltk.data.fetch import FetchCorpus"
   ]
  },
  {
   "cell_type": "code",
   "execution_count": 3,
   "id": "f5841aa1-a0d5-470b-9c06-ca0807a55e97",
   "metadata": {},
   "outputs": [],
   "source": [
    "corpus_downloader = FetchCorpus(language='lat')\n",
    "\n",
    "corpus_downloader.import_corpus('lat_models_cltk')"
   ]
  },
  {
   "cell_type": "code",
   "execution_count": 4,
   "id": "a03b5974-fbc1-4092-8254-5fa46e07e9f5",
   "metadata": {},
   "outputs": [
    {
     "data": {
      "text/plain": [
       "[{'type': 'text',\n",
       "  'name': 'lat_text_perseus',\n",
       "  'origin': 'https://github.com/cltk/lat_text_perseus.git'},\n",
       " {'name': 'lat_treebank_perseus',\n",
       "  'origin': 'https://github.com/cltk/lat_treebank_perseus.git',\n",
       "  'type': 'treebank'},\n",
       " {'name': 'lat_text_latin_library',\n",
       "  'origin': 'https://github.com/cltk/lat_text_latin_library.git',\n",
       "  'type': 'text'},\n",
       " {'location': 'local', 'name': 'phi5', 'origin': None, 'type': 'text'},\n",
       " {'origin': None, 'name': 'phi7', 'location': 'local', 'type': 'text'},\n",
       " {'name': 'latin_proper_names_cltk',\n",
       "  'origin': 'https://github.com/cltk/latin_proper_names_cltk.git',\n",
       "  'type': 'lexicon'},\n",
       " {'origin': 'https://github.com/cltk/lat_models_cltk.git',\n",
       "  'name': 'lat_models_cltk',\n",
       "  'type': 'model'},\n",
       " {'name': 'latin_pos_lemmata_cltk',\n",
       "  'origin': 'https://github.com/cltk/latin_pos_lemmata_cltk.git',\n",
       "  'type': 'lemma'},\n",
       " {'name': 'latin_treebank_index_thomisticus',\n",
       "  'origin': 'https://github.com/cltk/latin_treebank_index_thomisticus.git',\n",
       "  'type': 'treebank'},\n",
       " {'name': 'latin_lexica_perseus',\n",
       "  'origin': 'https://github.com/cltk/latin_lexica_perseus.git',\n",
       "  'type': 'lexicon'},\n",
       " {'name': 'latin_training_set_sentence_cltk',\n",
       "  'origin': 'https://github.com/cltk/latin_training_set_sentence_cltk.git',\n",
       "  'type': 'training_set'},\n",
       " {'origin': 'https://github.com/cltk/latin_word2vec_cltk.git',\n",
       "  'name': 'latin_word2vec_cltk',\n",
       "  'type': 'model'},\n",
       " {'type': 'text',\n",
       "  'name': 'latin_text_antique_digiliblt',\n",
       "  'origin': 'https://github.com/cltk/latin_text_antique_digiliblt.git'},\n",
       " {'type': 'text',\n",
       "  'name': 'latin_text_corpus_grammaticorum_latinorum',\n",
       "  'origin': 'https://github.com/cltk/latin_text_corpus_grammaticorum_latinorum.git'},\n",
       " {'type': 'text',\n",
       "  'name': 'latin_text_poeti_ditalia',\n",
       "  'origin': 'https://github.com/cltk/latin_text_poeti_ditalia.git'},\n",
       " {'name': 'lat_text_tesserae',\n",
       "  'origin': 'https://github.com/cltk/lat_text_tesserae.git',\n",
       "  'type': 'text'},\n",
       " {'type': 'lexicon',\n",
       "  'name': 'cltk_lat_lewis_elementary_lexicon',\n",
       "  'origin': 'https://github.com/cltk/cltk_lat_lewis_elementary_lexicon.git'}]"
      ]
     },
     "execution_count": 4,
     "metadata": {},
     "output_type": "execute_result"
    }
   ],
   "source": [
    "corpus_downloader.all_corpora_for_lang"
   ]
  },
  {
   "cell_type": "code",
   "execution_count": 5,
   "id": "6d021e0d-b193-4b0e-8090-f3085bb69692",
   "metadata": {},
   "outputs": [
    {
     "name": "stdout",
     "output_type": "stream",
     "text": [
      "Downloaded 100% 112.75 MiB | 2.04 MiB/s \r"
     ]
    }
   ],
   "source": [
    "corpus_downloader.import_corpus('lat_text_perseus')"
   ]
  },
  {
   "cell_type": "code",
   "execution_count": 1,
   "id": "f34a6c1d-82e3-47ae-ba13-73f2382e92f2",
   "metadata": {},
   "outputs": [],
   "source": [
    "from pathlib import Path\n",
    "import os"
   ]
  },
  {
   "cell_type": "code",
   "execution_count": 2,
   "id": "33fc71f2-00c9-4b89-b673-d3f7d74ae13f",
   "metadata": {},
   "outputs": [],
   "source": [
    "cltk_path = Path(os.environ[\"HOME\"]) / \"cltk_data\" / \"lat\" / \"text\""
   ]
  },
  {
   "cell_type": "code",
   "execution_count": 3,
   "id": "66f770f3-fdc2-4ead-9e14-ec3ac09c3e72",
   "metadata": {},
   "outputs": [
    {
     "data": {
      "text/plain": [
       "True"
      ]
     },
     "execution_count": 3,
     "metadata": {},
     "output_type": "execute_result"
    }
   ],
   "source": [
    "cltk_path.exists()"
   ]
  },
  {
   "cell_type": "code",
   "execution_count": 4,
   "id": "3c519ed8-5388-42e7-84fc-6c58af7848a5",
   "metadata": {},
   "outputs": [],
   "source": [
    "perseus_path = cltk_path / \"lat_text_perseus\""
   ]
  },
  {
   "cell_type": "code",
   "execution_count": 5,
   "id": "8730d520-6cd9-469f-8689-6534088698de",
   "metadata": {},
   "outputs": [],
   "source": [
    "from latin_author_learning.datasets import read_text"
   ]
  },
  {
   "cell_type": "code",
   "execution_count": 6,
   "id": "be50745b-6a3a-4485-bf6b-f0fdeee05d0d",
   "metadata": {},
   "outputs": [],
   "source": [
    "bg_path = perseus_path / \"Caesar\" / \"opensource\" / \"caes.bg_lat.xml.json\""
   ]
  },
  {
   "cell_type": "code",
   "execution_count": 7,
   "id": "3a395352-5489-405e-a076-c17663e4f902",
   "metadata": {},
   "outputs": [
    {
     "data": {
      "text/plain": [
       "True"
      ]
     },
     "execution_count": 7,
     "metadata": {},
     "output_type": "execute_result"
    }
   ],
   "source": [
    "bg_path.exists()"
   ]
  },
  {
   "cell_type": "code",
   "execution_count": 8,
   "id": "f775ff75-40a8-4c0e-ad49-a40e944eaf32",
   "metadata": {},
   "outputs": [
    {
     "ename": "TypeError",
     "evalue": "\n                Got unexpected type <class 'list'> from parsed json.\n                All values are assumed to be strings.\n                ",
     "output_type": "error",
     "traceback": [
      "\u001b[0;31m---------------------------------------------------------------------------\u001b[0m",
      "\u001b[0;31mTypeError\u001b[0m                                 Traceback (most recent call last)",
      "Cell \u001b[0;32mIn[8], line 1\u001b[0m\n\u001b[0;32m----> 1\u001b[0m bello_gallico \u001b[38;5;241m=\u001b[39m \u001b[43mread_text\u001b[49m\u001b[43m(\u001b[49m\n\u001b[1;32m      2\u001b[0m \u001b[43m    \u001b[49m\u001b[43mbg_path\u001b[49m\u001b[43m,\u001b[49m\n\u001b[1;32m      3\u001b[0m \u001b[43m    \u001b[49m\u001b[43mmeta_data_keys\u001b[49m\u001b[38;5;241;43m=\u001b[39;49m\u001b[43m[\u001b[49m\u001b[38;5;124;43m\"\u001b[39;49m\u001b[38;5;124;43m@text\u001b[39;49m\u001b[38;5;124;43m\"\u001b[39;49m\u001b[43m,\u001b[49m\u001b[43m \u001b[49m\u001b[38;5;124;43m\"\u001b[39;49m\u001b[38;5;124;43m@unit\u001b[39;49m\u001b[38;5;124;43m\"\u001b[39;49m\u001b[43m,\u001b[49m\u001b[43m \u001b[49m\u001b[38;5;124;43m\"\u001b[39;49m\u001b[38;5;124;43m@status\u001b[39;49m\u001b[38;5;124;43m\"\u001b[39;49m\u001b[43m,\u001b[49m\u001b[43m \u001b[49m\u001b[38;5;124;43m\"\u001b[39;49m\u001b[38;5;124;43m@delim\u001b[39;49m\u001b[38;5;124;43m\"\u001b[39;49m\u001b[43m,\u001b[49m\u001b[43m \u001b[49m\u001b[38;5;124;43m\"\u001b[39;49m\u001b[38;5;124;43m@n\u001b[39;49m\u001b[38;5;124;43m\"\u001b[39;49m\u001b[43m,\u001b[49m\u001b[43m \u001b[49m\u001b[38;5;124;43m\"\u001b[39;49m\u001b[38;5;124;43m@id\u001b[39;49m\u001b[38;5;124;43m\"\u001b[39;49m\u001b[43m,\u001b[49m\u001b[43m \u001b[49m\u001b[38;5;124;43m\"\u001b[39;49m\u001b[38;5;124;43mfileDesc\u001b[39;49m\u001b[38;5;124;43m\"\u001b[39;49m\u001b[43m]\u001b[49m\n\u001b[1;32m      4\u001b[0m \u001b[43m)\u001b[49m\n",
      "File \u001b[0;32m~/PycharmProjects/latin-author-learning/latin_author_learning/datasets.py:90\u001b[0m, in \u001b[0;36mread_text\u001b[0;34m(file_path, meta_data_keys)\u001b[0m\n\u001b[1;32m     88\u001b[0m \u001b[38;5;28;01mwith\u001b[39;00m file_path\u001b[38;5;241m.\u001b[39mopen(\u001b[38;5;124m\"\u001b[39m\u001b[38;5;124mr\u001b[39m\u001b[38;5;124m\"\u001b[39m) \u001b[38;5;28;01mas\u001b[39;00m fh:\n\u001b[1;32m     89\u001b[0m     data \u001b[38;5;241m=\u001b[39m json\u001b[38;5;241m.\u001b[39mload(fh)\n\u001b[0;32m---> 90\u001b[0m \u001b[38;5;28;01mreturn\u001b[39;00m \u001b[43mextract_text\u001b[49m\u001b[43m(\u001b[49m\u001b[43mdata\u001b[49m\u001b[43m,\u001b[49m\u001b[43m \u001b[49m\u001b[43mmeta_data_keys\u001b[49m\u001b[43m)\u001b[49m\n",
      "File \u001b[0;32m~/PycharmProjects/latin-author-learning/latin_author_learning/datasets.py:42\u001b[0m, in \u001b[0;36mextract_text\u001b[0;34m(data, meta_data_keys)\u001b[0m\n\u001b[1;32m     40\u001b[0m \u001b[38;5;28;01mfor\u001b[39;00m k \u001b[38;5;129;01min\u001b[39;00m data:\n\u001b[1;32m     41\u001b[0m     \u001b[38;5;28;01mif\u001b[39;00m k \u001b[38;5;129;01mnot\u001b[39;00m \u001b[38;5;129;01min\u001b[39;00m meta_data_keys:\n\u001b[0;32m---> 42\u001b[0m         additional_text \u001b[38;5;241m=\u001b[39m \u001b[43mextract_text\u001b[49m\u001b[43m(\u001b[49m\u001b[43mdata\u001b[49m\u001b[43m[\u001b[49m\u001b[43mk\u001b[49m\u001b[43m]\u001b[49m\u001b[43m,\u001b[49m\u001b[43m \u001b[49m\u001b[43mmeta_data_keys\u001b[49m\u001b[43m)\u001b[49m\n\u001b[1;32m     43\u001b[0m         \u001b[38;5;28;01mif\u001b[39;00m text \u001b[38;5;129;01mand\u001b[39;00m additional_text:\n\u001b[1;32m     44\u001b[0m             text \u001b[38;5;241m+\u001b[39m\u001b[38;5;241m=\u001b[39m SECTION_SEPARATOR\n",
      "File \u001b[0;32m~/PycharmProjects/latin-author-learning/latin_author_learning/datasets.py:42\u001b[0m, in \u001b[0;36mextract_text\u001b[0;34m(data, meta_data_keys)\u001b[0m\n\u001b[1;32m     40\u001b[0m \u001b[38;5;28;01mfor\u001b[39;00m k \u001b[38;5;129;01min\u001b[39;00m data:\n\u001b[1;32m     41\u001b[0m     \u001b[38;5;28;01mif\u001b[39;00m k \u001b[38;5;129;01mnot\u001b[39;00m \u001b[38;5;129;01min\u001b[39;00m meta_data_keys:\n\u001b[0;32m---> 42\u001b[0m         additional_text \u001b[38;5;241m=\u001b[39m \u001b[43mextract_text\u001b[49m\u001b[43m(\u001b[49m\u001b[43mdata\u001b[49m\u001b[43m[\u001b[49m\u001b[43mk\u001b[49m\u001b[43m]\u001b[49m\u001b[43m,\u001b[49m\u001b[43m \u001b[49m\u001b[43mmeta_data_keys\u001b[49m\u001b[43m)\u001b[49m\n\u001b[1;32m     43\u001b[0m         \u001b[38;5;28;01mif\u001b[39;00m text \u001b[38;5;129;01mand\u001b[39;00m additional_text:\n\u001b[1;32m     44\u001b[0m             text \u001b[38;5;241m+\u001b[39m\u001b[38;5;241m=\u001b[39m SECTION_SEPARATOR\n",
      "    \u001b[0;31m[... skipping similar frames: extract_text at line 42 (2 times)]\u001b[0m\n",
      "File \u001b[0;32m~/PycharmProjects/latin-author-learning/latin_author_learning/datasets.py:42\u001b[0m, in \u001b[0;36mextract_text\u001b[0;34m(data, meta_data_keys)\u001b[0m\n\u001b[1;32m     40\u001b[0m \u001b[38;5;28;01mfor\u001b[39;00m k \u001b[38;5;129;01min\u001b[39;00m data:\n\u001b[1;32m     41\u001b[0m     \u001b[38;5;28;01mif\u001b[39;00m k \u001b[38;5;129;01mnot\u001b[39;00m \u001b[38;5;129;01min\u001b[39;00m meta_data_keys:\n\u001b[0;32m---> 42\u001b[0m         additional_text \u001b[38;5;241m=\u001b[39m \u001b[43mextract_text\u001b[49m\u001b[43m(\u001b[49m\u001b[43mdata\u001b[49m\u001b[43m[\u001b[49m\u001b[43mk\u001b[49m\u001b[43m]\u001b[49m\u001b[43m,\u001b[49m\u001b[43m \u001b[49m\u001b[43mmeta_data_keys\u001b[49m\u001b[43m)\u001b[49m\n\u001b[1;32m     43\u001b[0m         \u001b[38;5;28;01mif\u001b[39;00m text \u001b[38;5;129;01mand\u001b[39;00m additional_text:\n\u001b[1;32m     44\u001b[0m             text \u001b[38;5;241m+\u001b[39m\u001b[38;5;241m=\u001b[39m SECTION_SEPARATOR\n",
      "File \u001b[0;32m~/PycharmProjects/latin-author-learning/latin_author_learning/datasets.py:49\u001b[0m, in \u001b[0;36mextract_text\u001b[0;34m(data, meta_data_keys)\u001b[0m\n\u001b[1;32m     47\u001b[0m \u001b[38;5;28;01melse\u001b[39;00m:\n\u001b[1;32m     48\u001b[0m     actual_type \u001b[38;5;241m=\u001b[39m \u001b[38;5;28mtype\u001b[39m(data)\n\u001b[0;32m---> 49\u001b[0m     \u001b[38;5;28;01mraise\u001b[39;00m \u001b[38;5;167;01mTypeError\u001b[39;00m(\n\u001b[1;32m     50\u001b[0m         \u001b[38;5;124mf\u001b[39m\u001b[38;5;124m\"\"\"\u001b[39m\n\u001b[1;32m     51\u001b[0m \u001b[38;5;124m            Got unexpected type \u001b[39m\u001b[38;5;132;01m{\u001b[39;00mactual_type\u001b[38;5;132;01m}\u001b[39;00m\u001b[38;5;124m from parsed json.\u001b[39m\n\u001b[1;32m     52\u001b[0m \u001b[38;5;124m            All values are assumed to be strings.\u001b[39m\n\u001b[1;32m     53\u001b[0m \u001b[38;5;124m            \u001b[39m\u001b[38;5;124m\"\"\"\u001b[39m\n\u001b[1;32m     54\u001b[0m     )\n",
      "\u001b[0;31mTypeError\u001b[0m: \n                Got unexpected type <class 'list'> from parsed json.\n                All values are assumed to be strings.\n                "
     ]
    }
   ],
   "source": [
    "bello_gallico = read_text(\n",
    "    bg_path,\n",
    "    meta_data_keys=[\"@text\", \"@unit\", \"@status\", \"@delim\", \"@n\", \"@id\", \"fileDesc\"]\n",
    ")"
   ]
  },
  {
   "cell_type": "code",
   "execution_count": null,
   "id": "42867492-df8c-4430-9cf5-d1a7cb20c9d7",
   "metadata": {},
   "outputs": [],
   "source": []
  }
 ],
 "metadata": {
  "kernelspec": {
   "display_name": "Python 3 (ipykernel)",
   "language": "python",
   "name": "python3"
  },
  "language_info": {
   "codemirror_mode": {
    "name": "ipython",
    "version": 3
   },
   "file_extension": ".py",
   "mimetype": "text/x-python",
   "name": "python",
   "nbconvert_exporter": "python",
   "pygments_lexer": "ipython3",
   "version": "3.9.10"
  }
 },
 "nbformat": 4,
 "nbformat_minor": 5
}
