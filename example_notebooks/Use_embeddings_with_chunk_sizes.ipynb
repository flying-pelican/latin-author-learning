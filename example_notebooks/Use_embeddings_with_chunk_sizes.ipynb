{
 "cells": [
  {
   "cell_type": "code",
   "execution_count": 1,
   "id": "3630e652-2b92-4d7f-a41e-3b720fd3eb9f",
   "metadata": {},
   "outputs": [],
   "source": [
    "from pathlib import Path\n",
    "import fasttext\n",
    "from fasttext import util as ftu"
   ]
  },
  {
   "cell_type": "code",
   "execution_count": 2,
   "id": "29d85e90-de0c-46ce-b3b9-5bc8d328ee2e",
   "metadata": {},
   "outputs": [],
   "source": [
    "vec_file = Path(\"/Users/stm/cltk_data/cc.la.300.bin\")"
   ]
  },
  {
   "cell_type": "code",
   "execution_count": 3,
   "id": "dae01f1a-9ec9-4ff8-962a-6649f9b67c21",
   "metadata": {},
   "outputs": [
    {
     "data": {
      "text/plain": [
       "True"
      ]
     },
     "execution_count": 3,
     "metadata": {},
     "output_type": "execute_result"
    }
   ],
   "source": [
    "vec_file.exists()"
   ]
  },
  {
   "cell_type": "code",
   "execution_count": 4,
   "id": "454ce068-f521-44f5-885e-1b163694b00c",
   "metadata": {},
   "outputs": [],
   "source": [
    "embeddings = fasttext.load_model(str(vec_file))"
   ]
  },
  {
   "cell_type": "code",
   "execution_count": 5,
   "id": "870f9092-f9c3-4ddd-ba68-1a7c5afd7139",
   "metadata": {},
   "outputs": [
    {
     "data": {
      "text/plain": [
       "300"
      ]
     },
     "execution_count": 5,
     "metadata": {},
     "output_type": "execute_result"
    }
   ],
   "source": [
    "embeddings.get_dimension()"
   ]
  },
  {
   "cell_type": "code",
   "execution_count": 6,
   "id": "fb1ec953-6898-404c-a592-a00967e03e55",
   "metadata": {},
   "outputs": [
    {
     "data": {
      "text/plain": [
       "<fasttext.FastText._FastText at 0x107f1ce20>"
      ]
     },
     "execution_count": 6,
     "metadata": {},
     "output_type": "execute_result"
    }
   ],
   "source": [
    "ftu.reduce_model(embeddings, 100)"
   ]
  },
  {
   "cell_type": "code",
   "execution_count": 7,
   "id": "1d0f40af-c979-4ece-a81e-223a9752e3d9",
   "metadata": {},
   "outputs": [
    {
     "data": {
      "text/plain": [
       "100"
      ]
     },
     "execution_count": 7,
     "metadata": {},
     "output_type": "execute_result"
    }
   ],
   "source": [
    "embeddings.get_dimension()"
   ]
  },
  {
   "cell_type": "code",
   "execution_count": 8,
   "id": "29a25480-d513-4711-a343-f16e9f8e908e",
   "metadata": {},
   "outputs": [],
   "source": [
    "embeddings.save_model(str(vec_file).replace(\"300\", \"100\"))"
   ]
  },
  {
   "cell_type": "code",
   "execution_count": 6,
   "id": "ce7acf03-7eae-4ea6-9f0a-809f61dffeff",
   "metadata": {},
   "outputs": [
    {
     "name": "stderr",
     "output_type": "stream",
     "text": [
      "/Users/stm/Library/Caches/pypoetry/virtualenvs/latin-author-learning-nqRTE_o3-py3.9/lib/python3.9/site-packages/urllib3/__init__.py:34: NotOpenSSLWarning: urllib3 v2 only supports OpenSSL 1.1.1+, currently the 'ssl' module is compiled with 'LibreSSL 2.8.3'. See: https://github.com/urllib3/urllib3/issues/3020\n",
      "  warnings.warn(\n"
     ]
    }
   ],
   "source": [
    "from latin_author_learning.fasttext_wrapper import model_to_vec_str"
   ]
  },
  {
   "cell_type": "code",
   "execution_count": 7,
   "id": "ca2e33c9-43c5-43a4-901e-d87464f0a74f",
   "metadata": {},
   "outputs": [
    {
     "ename": "KeyboardInterrupt",
     "evalue": "",
     "output_type": "error",
     "traceback": [
      "\u001b[0;31m---------------------------------------------------------------------------\u001b[0m",
      "\u001b[0;31mKeyboardInterrupt\u001b[0m                         Traceback (most recent call last)",
      "Cell \u001b[0;32mIn[7], line 1\u001b[0m\n\u001b[0;32m----> 1\u001b[0m vec_str \u001b[38;5;241m=\u001b[39m \u001b[43mmodel_to_vec_str\u001b[49m\u001b[43m(\u001b[49m\u001b[43membeddings\u001b[49m\u001b[43m)\u001b[49m\n",
      "File \u001b[0;32m~/PycharmProjects/latin-author-learning/latin_author_learning/fasttext_wrapper.py:153\u001b[0m, in \u001b[0;36mmodel_to_vec_str\u001b[0;34m(model)\u001b[0m\n\u001b[1;32m    151\u001b[0m \u001b[38;5;28;01mfor\u001b[39;00m word \u001b[38;5;129;01min\u001b[39;00m words:\n\u001b[1;32m    152\u001b[0m     word_vec \u001b[38;5;241m=\u001b[39m model\u001b[38;5;241m.\u001b[39mget_word_vector(word)\n\u001b[0;32m--> 153\u001b[0m     word_vec_str \u001b[38;5;241m=\u001b[39m \u001b[38;5;124m\"\u001b[39m\u001b[38;5;124m \u001b[39m\u001b[38;5;124m\"\u001b[39m\u001b[38;5;241m.\u001b[39mjoin([\u001b[38;5;28mstr\u001b[39m(num) \u001b[38;5;28;01mfor\u001b[39;00m num \u001b[38;5;129;01min\u001b[39;00m word_vec])\n\u001b[1;32m    154\u001b[0m     vec_str \u001b[38;5;241m+\u001b[39m\u001b[38;5;241m=\u001b[39m \u001b[38;5;124mf\u001b[39m\u001b[38;5;124m\"\u001b[39m\u001b[38;5;130;01m\\n\u001b[39;00m\u001b[38;5;132;01m{\u001b[39;00mword\u001b[38;5;132;01m}\u001b[39;00m\u001b[38;5;124m \u001b[39m\u001b[38;5;132;01m{\u001b[39;00mword_vec_str\u001b[38;5;132;01m}\u001b[39;00m\u001b[38;5;124m\"\u001b[39m\n\u001b[1;32m    155\u001b[0m \u001b[38;5;28;01mreturn\u001b[39;00m vec_str\n",
      "File \u001b[0;32m~/PycharmProjects/latin-author-learning/latin_author_learning/fasttext_wrapper.py:153\u001b[0m, in \u001b[0;36m<listcomp>\u001b[0;34m(.0)\u001b[0m\n\u001b[1;32m    151\u001b[0m \u001b[38;5;28;01mfor\u001b[39;00m word \u001b[38;5;129;01min\u001b[39;00m words:\n\u001b[1;32m    152\u001b[0m     word_vec \u001b[38;5;241m=\u001b[39m model\u001b[38;5;241m.\u001b[39mget_word_vector(word)\n\u001b[0;32m--> 153\u001b[0m     word_vec_str \u001b[38;5;241m=\u001b[39m \u001b[38;5;124m\"\u001b[39m\u001b[38;5;124m \u001b[39m\u001b[38;5;124m\"\u001b[39m\u001b[38;5;241m.\u001b[39mjoin([\u001b[38;5;28;43mstr\u001b[39;49m\u001b[43m(\u001b[49m\u001b[43mnum\u001b[49m\u001b[43m)\u001b[49m \u001b[38;5;28;01mfor\u001b[39;00m num \u001b[38;5;129;01min\u001b[39;00m word_vec])\n\u001b[1;32m    154\u001b[0m     vec_str \u001b[38;5;241m+\u001b[39m\u001b[38;5;241m=\u001b[39m \u001b[38;5;124mf\u001b[39m\u001b[38;5;124m\"\u001b[39m\u001b[38;5;130;01m\\n\u001b[39;00m\u001b[38;5;132;01m{\u001b[39;00mword\u001b[38;5;132;01m}\u001b[39;00m\u001b[38;5;124m \u001b[39m\u001b[38;5;132;01m{\u001b[39;00mword_vec_str\u001b[38;5;132;01m}\u001b[39;00m\u001b[38;5;124m\"\u001b[39m\n\u001b[1;32m    155\u001b[0m \u001b[38;5;28;01mreturn\u001b[39;00m vec_str\n",
      "\u001b[0;31mKeyboardInterrupt\u001b[0m: "
     ]
    }
   ],
   "source": [
    "vec_str = model_to_vec_str(embeddings)"
   ]
  },
  {
   "cell_type": "code",
   "execution_count": 2,
   "id": "33891352-4c65-4845-82ed-6e6d26d2ac76",
   "metadata": {},
   "outputs": [],
   "source": [
    "from pathlib import Path\n",
    "import os"
   ]
  },
  {
   "cell_type": "code",
   "execution_count": 3,
   "id": "e0060c4f-10ff-4992-b985-45398b0db097",
   "metadata": {},
   "outputs": [],
   "source": [
    "cltk_path = Path(os.environ[\"HOME\"]) / \"cltk_data\" / \"lat\" / \"text\""
   ]
  },
  {
   "cell_type": "code",
   "execution_count": 4,
   "id": "adbfb879-0189-4121-a9fd-d8c1a8db32ce",
   "metadata": {},
   "outputs": [],
   "source": [
    "perseus_path = cltk_path / \"lat_text_perseus\""
   ]
  },
  {
   "cell_type": "code",
   "execution_count": 5,
   "id": "b6ba4376-2e83-40bd-b8c6-869097380846",
   "metadata": {},
   "outputs": [],
   "source": [
    "vec_path = cltk_path / \"cc.la.100.vec\""
   ]
  },
  {
   "cell_type": "code",
   "execution_count": 15,
   "id": "fe221225-92b2-4ce9-9303-a80673f56fb8",
   "metadata": {},
   "outputs": [],
   "source": [
    "with open(vec_path, \"w\") as f:\n",
    "    f.write(vec_str)"
   ]
  },
  {
   "cell_type": "code",
   "execution_count": 11,
   "id": "e8e7bec9-5b99-4602-9b52-650d79c7d535",
   "metadata": {},
   "outputs": [],
   "source": [
    "from latin_author_learning.corpus import Corpus"
   ]
  },
  {
   "cell_type": "code",
   "execution_count": 12,
   "id": "7aa4431f-728a-4f4b-921f-c85cc0e50d65",
   "metadata": {},
   "outputs": [],
   "source": [
    "perseus = Corpus(\"lat_text_perseus\")"
   ]
  },
  {
   "cell_type": "code",
   "execution_count": 13,
   "id": "0c124110-babf-4fd5-8e18-8b6ff3eb24e1",
   "metadata": {},
   "outputs": [],
   "source": [
    "perseus.add_data_from_files(\n",
    "    perseus_path,\n",
    "    filename_contains=\"_lat.\",\n",
    "    meta_keys=[\"fileDesc\", \"teiHeader\"],\n",
    "    meta_key_prefix=\"@\", \n",
    ")"
   ]
  },
  {
   "cell_type": "code",
   "execution_count": 14,
   "id": "d973b901-d405-4d12-9dab-b85df2ee23a1",
   "metadata": {},
   "outputs": [],
   "source": [
    "from latin_author_learning.fasttext_wrapper import DatasetWrapper"
   ]
  },
  {
   "cell_type": "code",
   "execution_count": 15,
   "id": "2338e4e1-265f-419d-9d63-deb1ae42a3af",
   "metadata": {},
   "outputs": [],
   "source": [
    "ds = DatasetWrapper(corpus=perseus, fraction_for_test=0.2, chunksize=100)"
   ]
  },
  {
   "cell_type": "code",
   "execution_count": 6,
   "id": "06cce7f2-63a3-494d-8a76-619f2fd10840",
   "metadata": {},
   "outputs": [],
   "source": [
    "trainfile = cltk_path / \"perseues_train.txt\"\n",
    "#ds.get_training_data(trainfile)"
   ]
  },
  {
   "cell_type": "code",
   "execution_count": 7,
   "id": "2e4140a0-2662-4571-8b9c-fbb22a63394b",
   "metadata": {},
   "outputs": [],
   "source": [
    "valid_file = cltk_path / \"perseues_valid.txt\"\n",
    "#ds.get_validation_data(valid_file)"
   ]
  },
  {
   "cell_type": "code",
   "execution_count": null,
   "id": "73134b11-3dab-40fe-952d-cf2506dfe57f",
   "metadata": {},
   "outputs": [
    {
     "name": "stderr",
     "output_type": "stream",
     "text": [
      "Read 3M words\n",
      "Number of words:  392447\n",
      "Number of labels: 23\n",
      "Progress:   3.5% words/sec/thread:  207449 lr:  0.964639 avg.loss:  0.197098 ETA:   0h10m19s"
     ]
    }
   ],
   "source": [
    "author_model = fasttext.train_supervised(\n",
    "    input=str(trainfile), dim=100, lr=1.,\n",
    "    thread=7,\n",
    "    pretrainedVectors=str(vec_path),\n",
    "    wordNgrams=2, minn=3, maxn=6,\n",
    "    epoch=200,\n",
    ")"
   ]
  },
  {
   "cell_type": "code",
   "execution_count": 24,
   "id": "a11c20c3-09c0-4b13-9348-f9eff988f4e9",
   "metadata": {},
   "outputs": [
    {
     "data": {
      "text/plain": [
       "(9246, 0.8822193380921479, 0.8822193380921479)"
      ]
     },
     "execution_count": 24,
     "metadata": {},
     "output_type": "execute_result"
    }
   ],
   "source": [
    "author_model.test(str(valid_file))"
   ]
  },
  {
   "cell_type": "code",
   "execution_count": 8,
   "id": "16b18f76-df67-44db-826a-5638dedcb200",
   "metadata": {},
   "outputs": [
    {
     "name": "stderr",
     "output_type": "stream",
     "text": [
      "Warning : dim is manually set to a specific value. It will not be automatically optimized.\n",
      "Warning : epoch is manually set to a specific value. It will not be automatically optimized.\n",
      "Progress: 100.0% Trials:    3 Best score:  0.866537 ETA:   0h 0m 0s\n",
      "Training again with best arguments\n",
      "Read 3M words\n",
      "Number of words:  392447\n",
      "Number of labels: 23\n",
      "Progress: 100.0% words/sec/thread: 2159086 lr:  0.000000 avg.loss:  0.022190 ETA:   0h 0m 0s\n"
     ]
    }
   ],
   "source": [
    "author_model = fasttext.train_supervised(\n",
    "    input=str(trainfile),\n",
    "    thread=7,\n",
    "    pretrainedVectors=str(vec_path),\n",
    "    dim=100,\n",
    "    epoch=200,\n",
    "    autotuneValidationFile=str(valid_file),\n",
    "    autotuneDuration=600\n",
    ")"
   ]
  },
  {
   "cell_type": "code",
   "execution_count": 9,
   "id": "e49dda70-5f93-4f5d-b649-ddb98503985e",
   "metadata": {},
   "outputs": [
    {
     "data": {
      "text/plain": [
       "(9246, 0.8663205710577547, 0.8663205710577547)"
      ]
     },
     "execution_count": 9,
     "metadata": {},
     "output_type": "execute_result"
    }
   ],
   "source": [
    "author_model.test(str(valid_file))"
   ]
  },
  {
   "cell_type": "code",
   "execution_count": null,
   "id": "72da645b-f76b-4954-aaeb-a2e4858c1be4",
   "metadata": {},
   "outputs": [],
   "source": []
  }
 ],
 "metadata": {
  "kernelspec": {
   "display_name": "Python 3 (ipykernel)",
   "language": "python",
   "name": "python3"
  },
  "language_info": {
   "codemirror_mode": {
    "name": "ipython",
    "version": 3
   },
   "file_extension": ".py",
   "mimetype": "text/x-python",
   "name": "python",
   "nbconvert_exporter": "python",
   "pygments_lexer": "ipython3",
   "version": "3.9.6"
  }
 },
 "nbformat": 4,
 "nbformat_minor": 5
}
