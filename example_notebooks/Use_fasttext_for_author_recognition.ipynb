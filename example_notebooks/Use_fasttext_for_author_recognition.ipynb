{
 "cells": [
  {
   "cell_type": "code",
   "execution_count": 1,
   "id": "3630e652-2b92-4d7f-a41e-3b720fd3eb9f",
   "metadata": {},
   "outputs": [],
   "source": [
    "from pathlib import Path\n",
    "import fasttext\n",
    "from fasttext import util as ftu"
   ]
  },
  {
   "cell_type": "code",
   "execution_count": 2,
   "id": "29d85e90-de0c-46ce-b3b9-5bc8d328ee2e",
   "metadata": {},
   "outputs": [],
   "source": [
    "vec_file = Path(\"/Users/stm/cltk_data/cc.la.300.bin\")"
   ]
  },
  {
   "cell_type": "code",
   "execution_count": 3,
   "id": "dae01f1a-9ec9-4ff8-962a-6649f9b67c21",
   "metadata": {},
   "outputs": [
    {
     "data": {
      "text/plain": [
       "True"
      ]
     },
     "execution_count": 3,
     "metadata": {},
     "output_type": "execute_result"
    }
   ],
   "source": [
    "vec_file.exists()"
   ]
  },
  {
   "cell_type": "code",
   "execution_count": 4,
   "id": "454ce068-f521-44f5-885e-1b163694b00c",
   "metadata": {},
   "outputs": [],
   "source": [
    "embeddings = fasttext.load_model(str(vec_file))"
   ]
  },
  {
   "cell_type": "code",
   "execution_count": 5,
   "id": "870f9092-f9c3-4ddd-ba68-1a7c5afd7139",
   "metadata": {},
   "outputs": [
    {
     "data": {
      "text/plain": [
       "300"
      ]
     },
     "execution_count": 5,
     "metadata": {},
     "output_type": "execute_result"
    }
   ],
   "source": [
    "embeddings.get_dimension()"
   ]
  },
  {
   "cell_type": "code",
   "execution_count": 6,
   "id": "fb1ec953-6898-404c-a592-a00967e03e55",
   "metadata": {},
   "outputs": [
    {
     "data": {
      "text/plain": [
       "<fasttext.FastText._FastText at 0x1054d5af0>"
      ]
     },
     "execution_count": 6,
     "metadata": {},
     "output_type": "execute_result"
    }
   ],
   "source": [
    "ftu.reduce_model(embeddings, 100)"
   ]
  },
  {
   "cell_type": "code",
   "execution_count": 7,
   "id": "1d0f40af-c979-4ece-a81e-223a9752e3d9",
   "metadata": {},
   "outputs": [
    {
     "data": {
      "text/plain": [
       "100"
      ]
     },
     "execution_count": 7,
     "metadata": {},
     "output_type": "execute_result"
    }
   ],
   "source": [
    "embeddings.get_dimension()"
   ]
  },
  {
   "cell_type": "code",
   "execution_count": 8,
   "id": "29a25480-d513-4711-a343-f16e9f8e908e",
   "metadata": {},
   "outputs": [],
   "source": [
    "embeddings.save_model(str(vec_file).replace(\"300\", \"100\"))"
   ]
  },
  {
   "cell_type": "code",
   "execution_count": 9,
   "id": "ce7acf03-7eae-4ea6-9f0a-809f61dffeff",
   "metadata": {},
   "outputs": [
    {
     "name": "stderr",
     "output_type": "stream",
     "text": [
      "/Users/stm/Library/Caches/pypoetry/virtualenvs/latin-author-learning-nqRTE_o3-py3.9/lib/python3.9/site-packages/urllib3/__init__.py:35: NotOpenSSLWarning: urllib3 v2 only supports OpenSSL 1.1.1+, currently the 'ssl' module is compiled with 'LibreSSL 2.8.3'. See: https://github.com/urllib3/urllib3/issues/3020\n",
      "  warnings.warn(\n"
     ]
    }
   ],
   "source": [
    "from latin_author_learning.fasttext_wrapper import model_to_vec_str"
   ]
  },
  {
   "cell_type": "code",
   "execution_count": 10,
   "id": "ca2e33c9-43c5-43a4-901e-d87464f0a74f",
   "metadata": {},
   "outputs": [],
   "source": [
    "vec_str = model_to_vec_str(embeddings)"
   ]
  },
  {
   "cell_type": "code",
   "execution_count": 11,
   "id": "33891352-4c65-4845-82ed-6e6d26d2ac76",
   "metadata": {},
   "outputs": [],
   "source": [
    "from pathlib import Path\n",
    "import os"
   ]
  },
  {
   "cell_type": "code",
   "execution_count": 12,
   "id": "e0060c4f-10ff-4992-b985-45398b0db097",
   "metadata": {},
   "outputs": [],
   "source": [
    "cltk_path = Path(os.environ[\"HOME\"]) / \"cltk_data\" / \"lat\" / \"text\""
   ]
  },
  {
   "cell_type": "code",
   "execution_count": 13,
   "id": "adbfb879-0189-4121-a9fd-d8c1a8db32ce",
   "metadata": {},
   "outputs": [],
   "source": [
    "perseus_path = cltk_path / \"lat_text_perseus\""
   ]
  },
  {
   "cell_type": "code",
   "execution_count": 14,
   "id": "b6ba4376-2e83-40bd-b8c6-869097380846",
   "metadata": {},
   "outputs": [],
   "source": [
    "vec_path = cltk_path / \"cc.la.100.vec\""
   ]
  },
  {
   "cell_type": "code",
   "execution_count": 15,
   "id": "fe221225-92b2-4ce9-9303-a80673f56fb8",
   "metadata": {},
   "outputs": [],
   "source": [
    "with open(vec_path, \"w\") as f:\n",
    "    f.write(vec_str)"
   ]
  },
  {
   "cell_type": "code",
   "execution_count": 16,
   "id": "e8e7bec9-5b99-4602-9b52-650d79c7d535",
   "metadata": {},
   "outputs": [],
   "source": [
    "from latin_author_learning.corpus import Corpus"
   ]
  },
  {
   "cell_type": "code",
   "execution_count": 17,
   "id": "7aa4431f-728a-4f4b-921f-c85cc0e50d65",
   "metadata": {},
   "outputs": [],
   "source": [
    "perseus = Corpus(\"lat_text_perseus\")"
   ]
  },
  {
   "cell_type": "code",
   "execution_count": 18,
   "id": "0c124110-babf-4fd5-8e18-8b6ff3eb24e1",
   "metadata": {},
   "outputs": [],
   "source": [
    "perseus.add_data_from_files(\n",
    "    perseus_path,\n",
    "    filename_contains=\"_lat.\",\n",
    "    meta_keys=[\"fileDesc\", \"teiHeader\"],\n",
    "    meta_key_prefix=\"@\", \n",
    ")"
   ]
  },
  {
   "cell_type": "code",
   "execution_count": 19,
   "id": "d973b901-d405-4d12-9dab-b85df2ee23a1",
   "metadata": {},
   "outputs": [],
   "source": [
    "from latin_author_learning.fasttext_wrapper import DatasetWrapper"
   ]
  },
  {
   "cell_type": "code",
   "execution_count": 20,
   "id": "2338e4e1-265f-419d-9d63-deb1ae42a3af",
   "metadata": {},
   "outputs": [],
   "source": [
    "ds = DatasetWrapper(corpus=perseus, fraction_for_test=0.2, chunksize=100)"
   ]
  },
  {
   "cell_type": "code",
   "execution_count": 21,
   "id": "06cce7f2-63a3-494d-8a76-619f2fd10840",
   "metadata": {},
   "outputs": [],
   "source": [
    "trainfile = cltk_path / \"perseues_train.txt\"\n",
    "ds.get_training_data(trainfile)"
   ]
  },
  {
   "cell_type": "code",
   "execution_count": 22,
   "id": "2e4140a0-2662-4571-8b9c-fbb22a63394b",
   "metadata": {},
   "outputs": [],
   "source": [
    "valid_file = cltk_path / \"perseues_valid.txt\"\n",
    "ds.get_validation_data(valid_file)"
   ]
  },
  {
   "cell_type": "code",
   "execution_count": null,
   "id": "73134b11-3dab-40fe-952d-cf2506dfe57f",
   "metadata": {},
   "outputs": [
    {
     "name": "stderr",
     "output_type": "stream",
     "text": [
      "Read 3M words\n",
      "Number of words:  392447\n",
      "Number of labels: 23\n",
      "Progress:   3.5% words/sec/thread:  207449 lr:  0.964639 avg.loss:  0.197098 ETA:   0h10m19s"
     ]
    }
   ],
   "source": [
    "author_model = fasttext.train_supervised(\n",
    "    input=str(trainfile), dim=100, lr=1.,\n",
    "    thread=7,\n",
    "    pretrainedVectors=str(vec_path),\n",
    "    wordNgrams=2, minn=3, maxn=6,\n",
    "    epoch=200,\n",
    ")"
   ]
  },
  {
   "cell_type": "code",
   "execution_count": 24,
   "id": "a11c20c3-09c0-4b13-9348-f9eff988f4e9",
   "metadata": {},
   "outputs": [
    {
     "data": {
      "text/plain": [
       "(9246, 0.8822193380921479, 0.8822193380921479)"
      ]
     },
     "execution_count": 24,
     "metadata": {},
     "output_type": "execute_result"
    }
   ],
   "source": [
    "author_model.test(str(valid_file))"
   ]
  },
  {
   "cell_type": "code",
   "execution_count": 23,
   "id": "16b18f76-df67-44db-826a-5638dedcb200",
   "metadata": {},
   "outputs": [
    {
     "name": "stderr",
     "output_type": "stream",
     "text": [
      "Warning : dim is manually set to a specific value. It will not be automatically optimized.\n",
      "Warning : epoch is manually set to a specific value. It will not be automatically optimized.\n",
      "Progress: 100.0% Trials:    7 Best score:  0.880813 ETA:   0h 0m 0s\n",
      "Training again with best arguments\n",
      "Read 3M words\n",
      "Number of words:  392447\n",
      "Number of labels: 23\n",
      "\n",
      "Aborting autotune...\n",
      "Progress: 100.0% words/sec/thread:  117008 lr:  0.000000 avg.loss:  0.007705 ETA:   0h 0m 0s 41.6% words/sec/thread:  178615 lr:  0.844785 avg.loss:  0.016640 ETA:   0h 7m15s 89.6% words/sec/thread:  112343 lr:  0.149740 avg.loss:  0.008444 ETA:   0h 2m 2s\n"
     ]
    }
   ],
   "source": [
    "author_model = fasttext.train_supervised(\n",
    "    input=str(trainfile),\n",
    "    thread=7,\n",
    "    pretrainedVectors=str(vec_path),\n",
    "    dim=100,\n",
    "    epoch=200,\n",
    "    autotuneValidationFile=str(valid_file),\n",
    "    autotuneDuration=90*60,\n",
    ")"
   ]
  },
  {
   "cell_type": "code",
   "execution_count": 25,
   "id": "e49dda70-5f93-4f5d-b649-ddb98503985e",
   "metadata": {},
   "outputs": [
    {
     "data": {
      "text/plain": [
       "(9246, 0.8778931429807484, 0.8778931429807484)"
      ]
     },
     "execution_count": 25,
     "metadata": {},
     "output_type": "execute_result"
    }
   ],
   "source": [
    "author_model.test(str(valid_file))"
   ]
  },
  {
   "cell_type": "code",
   "execution_count": 28,
   "id": "72da645b-f76b-4954-aaeb-a2e4858c1be4",
   "metadata": {},
   "outputs": [
    {
     "data": {
      "text/plain": [
       "(9246, 0.32244574230297784, 0.9673372269089336)"
      ]
     },
     "execution_count": 28,
     "metadata": {},
     "output_type": "execute_result"
    }
   ],
   "source": [
    "author_model.test(str(valid_file), 3)"
   ]
  },
  {
   "cell_type": "code",
   "execution_count": 29,
   "id": "d9b92116-ab85-451d-bfe1-b28011ba9e09",
   "metadata": {},
   "outputs": [
    {
     "data": {
      "text/plain": [
       "(9246, 0.4724745836037205, 0.944949167207441)"
      ]
     },
     "execution_count": 29,
     "metadata": {},
     "output_type": "execute_result"
    }
   ],
   "source": [
    "author_model.test(str(valid_file), 2)"
   ]
  },
  {
   "cell_type": "code",
   "execution_count": 30,
   "id": "a8c8d2d6-3c93-466f-aa36-3b5a3642ae5b",
   "metadata": {},
   "outputs": [
    {
     "data": {
      "text/plain": [
       "{'f': <fasttext_pybind.fasttext at 0x10563f5f0>,\n",
       " '_words': None,\n",
       " '_labels': None,\n",
       " 'lr': 1.4455293468027774,\n",
       " 'dim': 100,\n",
       " 'ws': 5,\n",
       " 'epoch': 200,\n",
       " 'minCount': 1,\n",
       " 'minCountLabel': 0,\n",
       " 'minn': 3,\n",
       " 'maxn': 6,\n",
       " 'neg': 5,\n",
       " 'wordNgrams': 5,\n",
       " 'loss': <loss_name.softmax: 3>,\n",
       " 'bucket': 186020,\n",
       " 'thread': 7,\n",
       " 'lrUpdateRate': 100,\n",
       " 't': 0.0001,\n",
       " 'label': '__label__',\n",
       " 'verbose': 2,\n",
       " 'pretrainedVectors': '/Users/stm/cltk_data/lat/text/cc.la.100.vec'}"
      ]
     },
     "execution_count": 30,
     "metadata": {},
     "output_type": "execute_result"
    }
   ],
   "source": [
    "author_model.__dict__"
   ]
  },
  {
   "cell_type": "code",
   "execution_count": 31,
   "id": "80128e49-44d1-4427-8870-16797ae944d6",
   "metadata": {},
   "outputs": [],
   "source": [
    "parameters = author_model.__dict__"
   ]
  },
  {
   "cell_type": "code",
   "execution_count": 34,
   "id": "18cd3bd7-b8c2-4b46-a29c-924ffed6aceb",
   "metadata": {},
   "outputs": [],
   "source": [
    "parameters = {\n",
    "    p: parameters[p] for p in parameters if (\n",
    "        not p.startswith(\"_\") and p not in (\"f\", \"label\", \"loss\")\n",
    "    )\n",
    "}"
   ]
  },
  {
   "cell_type": "code",
   "execution_count": 36,
   "id": "02e4f3a6-9dc0-4d10-a1ea-0a558da57ccf",
   "metadata": {},
   "outputs": [],
   "source": [
    "parameters[\"epoch\"] = 400"
   ]
  },
  {
   "cell_type": "code",
   "execution_count": 37,
   "id": "da6dffc6-6696-4084-b0b2-23717fab70db",
   "metadata": {},
   "outputs": [
    {
     "name": "stderr",
     "output_type": "stream",
     "text": [
      "Read 3M words\n",
      "Number of words:  392447\n",
      "Number of labels: 23\n",
      "Progress: 100.0% words/sec/thread:   55097 lr:  0.000000 avg.loss:  0.004249 ETA:   0h 0m 0s 36.6% words/sec/thread:  169654 lr:  0.915933 avg.loss:  0.009465 ETA:   0h16m34s 43.7% words/sec/thread:  169089 lr:  0.813669 avg.loss:  0.008143 ETA:   0h14m46s 54.0% words/sec/thread:  169482 lr:  0.664525 avg.loss:  0.006825 ETA:   0h12m 2s 59.4% words/sec/thread:  168304 lr:  0.587108 avg.loss:  0.006320 ETA:   0h10m42s 68.7% words/sec/thread:  167034 lr:  0.451791 avg.loss:  0.005626 ETA:   0h 8m18s 79.7% words/sec/thread:  166604 lr:  0.293029 avg.loss:  0.005020 ETA:   0h 5m24s\n"
     ]
    }
   ],
   "source": [
    "improved_model = fasttext.train_supervised(**parameters, input=str(trainfile))"
   ]
  },
  {
   "cell_type": "code",
   "execution_count": 38,
   "id": "57cddfd8-395e-475a-9b4f-a0f4545ca2ea",
   "metadata": {},
   "outputs": [
    {
     "data": {
      "text/plain": [
       "(9246, 0.8837335063811378, 0.8837335063811378)"
      ]
     },
     "execution_count": 38,
     "metadata": {},
     "output_type": "execute_result"
    }
   ],
   "source": [
    "improved_model.test(str(valid_file))"
   ]
  },
  {
   "cell_type": "code",
   "execution_count": 39,
   "id": "f9284b6c-0850-4a22-972a-7417d37c5951",
   "metadata": {},
   "outputs": [
    {
     "data": {
      "text/plain": [
       "(9246, 0.47350205494267794, 0.9470041098853559)"
      ]
     },
     "execution_count": 39,
     "metadata": {},
     "output_type": "execute_result"
    }
   ],
   "source": [
    "improved_model.test(str(valid_file), 2)"
   ]
  },
  {
   "cell_type": "code",
   "execution_count": 40,
   "id": "c594032d-9dc3-4bbe-81ff-d4fb387b96e5",
   "metadata": {},
   "outputs": [
    {
     "data": {
      "text/plain": [
       "(9246, 0.3224817939289062, 0.9674453817867186)"
      ]
     },
     "execution_count": 40,
     "metadata": {},
     "output_type": "execute_result"
    }
   ],
   "source": [
    "improved_model.test(str(valid_file), 3)"
   ]
  },
  {
   "cell_type": "code",
   "execution_count": null,
   "id": "9913fc7c-7ed9-4b74-b91e-0b851abbe0e3",
   "metadata": {},
   "outputs": [],
   "source": []
  }
 ],
 "metadata": {
  "kernelspec": {
   "display_name": "Python 3 (ipykernel)",
   "language": "python",
   "name": "python3"
  },
  "language_info": {
   "codemirror_mode": {
    "name": "ipython",
    "version": 3
   },
   "file_extension": ".py",
   "mimetype": "text/x-python",
   "name": "python",
   "nbconvert_exporter": "python",
   "pygments_lexer": "ipython3",
   "version": "3.9.6"
  }
 },
 "nbformat": 4,
 "nbformat_minor": 5
}
