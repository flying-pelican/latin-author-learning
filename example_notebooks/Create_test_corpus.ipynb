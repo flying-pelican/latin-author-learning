{
 "cells": [
  {
   "cell_type": "code",
   "execution_count": 1,
   "id": "590242bd-9011-4db4-8f0a-07812b2d7545",
   "metadata": {},
   "outputs": [
    {
     "name": "stderr",
     "output_type": "stream",
     "text": [
      "/Users/stm/Library/Caches/pypoetry/virtualenvs/latin-author-learning-nqRTE_o3-py3.9/lib/python3.9/site-packages/urllib3/__init__.py:34: NotOpenSSLWarning: urllib3 v2 only supports OpenSSL 1.1.1+, currently the 'ssl' module is compiled with 'LibreSSL 2.8.3'. See: https://github.com/urllib3/urllib3/issues/3020\n",
      "  warnings.warn(\n"
     ]
    }
   ],
   "source": [
    "from cltk.data.fetch import FetchCorpus"
   ]
  },
  {
   "cell_type": "code",
   "execution_count": 2,
   "id": "f5841aa1-a0d5-470b-9c06-ca0807a55e97",
   "metadata": {},
   "outputs": [],
   "source": [
    "corpus_downloader = FetchCorpus(language='lat')\n",
    "\n",
    "corpus_downloader.import_corpus('lat_models_cltk')"
   ]
  },
  {
   "cell_type": "code",
   "execution_count": 3,
   "id": "a03b5974-fbc1-4092-8254-5fa46e07e9f5",
   "metadata": {},
   "outputs": [
    {
     "data": {
      "text/plain": [
       "[{'type': 'text',\n",
       "  'name': 'lat_text_perseus',\n",
       "  'origin': 'https://github.com/cltk/lat_text_perseus.git'},\n",
       " {'name': 'lat_treebank_perseus',\n",
       "  'origin': 'https://github.com/cltk/lat_treebank_perseus.git',\n",
       "  'type': 'treebank'},\n",
       " {'name': 'lat_text_latin_library',\n",
       "  'origin': 'https://github.com/cltk/lat_text_latin_library.git',\n",
       "  'type': 'text'},\n",
       " {'location': 'local', 'name': 'phi5', 'origin': None, 'type': 'text'},\n",
       " {'origin': None, 'name': 'phi7', 'location': 'local', 'type': 'text'},\n",
       " {'name': 'latin_proper_names_cltk',\n",
       "  'origin': 'https://github.com/cltk/latin_proper_names_cltk.git',\n",
       "  'type': 'lexicon'},\n",
       " {'origin': 'https://github.com/cltk/lat_models_cltk.git',\n",
       "  'name': 'lat_models_cltk',\n",
       "  'type': 'model'},\n",
       " {'name': 'latin_pos_lemmata_cltk',\n",
       "  'origin': 'https://github.com/cltk/latin_pos_lemmata_cltk.git',\n",
       "  'type': 'lemma'},\n",
       " {'name': 'latin_treebank_index_thomisticus',\n",
       "  'origin': 'https://github.com/cltk/latin_treebank_index_thomisticus.git',\n",
       "  'type': 'treebank'},\n",
       " {'name': 'latin_lexica_perseus',\n",
       "  'origin': 'https://github.com/cltk/latin_lexica_perseus.git',\n",
       "  'type': 'lexicon'},\n",
       " {'name': 'latin_training_set_sentence_cltk',\n",
       "  'origin': 'https://github.com/cltk/latin_training_set_sentence_cltk.git',\n",
       "  'type': 'training_set'},\n",
       " {'origin': 'https://github.com/cltk/latin_word2vec_cltk.git',\n",
       "  'name': 'latin_word2vec_cltk',\n",
       "  'type': 'model'},\n",
       " {'type': 'text',\n",
       "  'name': 'latin_text_antique_digiliblt',\n",
       "  'origin': 'https://github.com/cltk/latin_text_antique_digiliblt.git'},\n",
       " {'type': 'text',\n",
       "  'name': 'latin_text_corpus_grammaticorum_latinorum',\n",
       "  'origin': 'https://github.com/cltk/latin_text_corpus_grammaticorum_latinorum.git'},\n",
       " {'type': 'text',\n",
       "  'name': 'latin_text_poeti_ditalia',\n",
       "  'origin': 'https://github.com/cltk/latin_text_poeti_ditalia.git'},\n",
       " {'name': 'lat_text_tesserae',\n",
       "  'origin': 'https://github.com/cltk/lat_text_tesserae.git',\n",
       "  'type': 'text'},\n",
       " {'type': 'lexicon',\n",
       "  'name': 'cltk_lat_lewis_elementary_lexicon',\n",
       "  'origin': 'https://github.com/cltk/cltk_lat_lewis_elementary_lexicon.git'}]"
      ]
     },
     "execution_count": 3,
     "metadata": {},
     "output_type": "execute_result"
    }
   ],
   "source": [
    "corpus_downloader.all_corpora_for_lang"
   ]
  },
  {
   "cell_type": "code",
   "execution_count": 4,
   "id": "6d021e0d-b193-4b0e-8090-f3085bb69692",
   "metadata": {},
   "outputs": [],
   "source": [
    "#corpus_downloader.import_corpus('lat_text_perseus')"
   ]
  },
  {
   "cell_type": "code",
   "execution_count": 5,
   "id": "f34a6c1d-82e3-47ae-ba13-73f2382e92f2",
   "metadata": {},
   "outputs": [],
   "source": [
    "from pathlib import Path\n",
    "import os"
   ]
  },
  {
   "cell_type": "code",
   "execution_count": 6,
   "id": "33fc71f2-00c9-4b89-b673-d3f7d74ae13f",
   "metadata": {},
   "outputs": [],
   "source": [
    "cltk_path = Path(os.environ[\"HOME\"]) / \"cltk_data\" / \"lat\" / \"text\""
   ]
  },
  {
   "cell_type": "code",
   "execution_count": 7,
   "id": "66f770f3-fdc2-4ead-9e14-ec3ac09c3e72",
   "metadata": {},
   "outputs": [
    {
     "data": {
      "text/plain": [
       "True"
      ]
     },
     "execution_count": 7,
     "metadata": {},
     "output_type": "execute_result"
    }
   ],
   "source": [
    "cltk_path.exists()"
   ]
  },
  {
   "cell_type": "code",
   "execution_count": 8,
   "id": "3c519ed8-5388-42e7-84fc-6c58af7848a5",
   "metadata": {},
   "outputs": [],
   "source": [
    "perseus_path = cltk_path / \"lat_text_perseus\""
   ]
  },
  {
   "cell_type": "code",
   "execution_count": 9,
   "id": "47bbf704-9974-4d8c-8741-a7837a4c0414",
   "metadata": {},
   "outputs": [],
   "source": [
    "from latin_author_learning.corpus import Corpus"
   ]
  },
  {
   "cell_type": "code",
   "execution_count": 10,
   "id": "da00b1a6-e314-42d4-8958-83d16b445512",
   "metadata": {},
   "outputs": [],
   "source": [
    "perseus = Corpus(\"lat_text_perseus\")"
   ]
  },
  {
   "cell_type": "code",
   "execution_count": 11,
   "id": "060699b7-dda2-41b7-a8bf-40a9daab42a5",
   "metadata": {},
   "outputs": [],
   "source": [
    "perseus.add_data_from_files(\n",
    "    perseus_path,\n",
    "    filename_contains=\"_lat.\",\n",
    "    meta_keys=[\"fileDesc\", \"teiHeader\"],\n",
    "    meta_key_prefix=\"@\", \n",
    ")"
   ]
  },
  {
   "cell_type": "code",
   "execution_count": 12,
   "id": "c4a4a134-7bc3-4d46-911d-3a03b312943f",
   "metadata": {},
   "outputs": [
    {
     "data": {
      "text/plain": [
       "{'Ammianus',\n",
       " 'Apuleius',\n",
       " 'Augustine',\n",
       " 'Bede',\n",
       " 'Caesar',\n",
       " 'Catullus',\n",
       " 'Celsus',\n",
       " 'Cicero',\n",
       " 'Columella',\n",
       " 'Curtius',\n",
       " 'Flaccus',\n",
       " 'Florus',\n",
       " 'Gellius',\n",
       " 'Glass',\n",
       " 'Horace',\n",
       " 'Jerome',\n",
       " 'Juvenal',\n",
       " 'Livy',\n",
       " 'Lucan',\n",
       " 'Martial',\n",
       " 'MinuciusFelix',\n",
       " 'Nepos',\n",
       " 'Ovid',\n",
       " 'Persius',\n",
       " 'Petronius',\n",
       " 'Plautus',\n",
       " 'Pliny',\n",
       " 'Propertius',\n",
       " 'Prudentius',\n",
       " 'Quintilian',\n",
       " 'Sallust',\n",
       " 'Seneca',\n",
       " 'Seneca1',\n",
       " 'SiliusItalicus',\n",
       " 'Statius',\n",
       " 'Suetonius',\n",
       " 'Tacitus',\n",
       " 'Terence',\n",
       " 'Tertullian',\n",
       " 'Tibullus',\n",
       " 'Vergil',\n",
       " 'Vitruvius'}"
      ]
     },
     "execution_count": 12,
     "metadata": {},
     "output_type": "execute_result"
    }
   ],
   "source": [
    "perseus.authors"
   ]
  },
  {
   "cell_type": "code",
   "execution_count": 13,
   "id": "0829e2e4-ed42-492c-91cf-51fd60a0ab4e",
   "metadata": {},
   "outputs": [
    {
     "data": {
      "text/plain": [
       "{'ad_lat.xml.json',\n",
       " 'amm_lat.xml.json',\n",
       " 'an_lat.xml.json',\n",
       " 'apuleius.ap_lat.xml.json',\n",
       " 'apuleius.fl_lat.xml.json',\n",
       " 'apuleius.ga_lat.xml.json',\n",
       " 'august.sellet_lat.xml.json',\n",
       " 'bede.hega_lat.xml.json',\n",
       " 'caes.bc_lat.xml.json',\n",
       " 'caes.bg_lat.xml.json',\n",
       " 'cat_lat.json',\n",
       " 'cat_lat.xml.json',\n",
       " 'cels_darem_lat.xml.json',\n",
       " 'cels_lat.xml.json',\n",
       " 'cels_marx_lat.xml.json',\n",
       " 'cic.ac_lat.xml.json',\n",
       " 'cic.ad.brut_lat.xml.json',\n",
       " 'cic.amic_falc_lat.xml.json',\n",
       " 'cic.att_lat.xml.json',\n",
       " 'cic.brut_lat.xml.json',\n",
       " 'cic.div_falc_lat.xml.json',\n",
       " 'cic.div_lat.xml.json',\n",
       " 'cic.fam_lat.xml.json',\n",
       " 'cic.fat_lat.xml.json',\n",
       " 'cic.fin_lat.xml.json',\n",
       " 'cic.luc_lat.xml.json',\n",
       " 'cic.n.d_lat.xml.json',\n",
       " 'cic.oct1_lat.xml.json',\n",
       " 'cic.oct2_lat.xml.json',\n",
       " 'cic.oct3_lat.xml.json',\n",
       " 'cic.oct4_lat.xml.json',\n",
       " 'cic.oct5_lat.xml.json',\n",
       " 'cic.oct6_lat.xml.json',\n",
       " 'cic.off_lat.xml.json',\n",
       " 'cic.opt_lat.xml.json',\n",
       " 'cic.orat_lat.xml.json',\n",
       " 'cic.parad_lat.xml.json',\n",
       " 'cic.part_lat.xml.json',\n",
       " 'cic.pet_lat.xml.json',\n",
       " 'cic.q.fr_lat.xml.json',\n",
       " 'cic.rep_lat.xml.json',\n",
       " 'cic.sen_falc_lat.xml.json',\n",
       " 'cic.top_lat.xml.json',\n",
       " 'cic.tusc_lat.xml.json',\n",
       " 'col.agr01_lat.xml.json',\n",
       " 'col.agr02_lat.xml.json',\n",
       " 'curtius.alex_lat.xml.json',\n",
       " 'deoratore_lat.xml.json',\n",
       " 'eu_lat.xml.json',\n",
       " 'florus.epit_lat.xml.json',\n",
       " 'gel_lat.xml.json',\n",
       " 'hau_lat.xml.json',\n",
       " 'hec_lat.xml.json',\n",
       " 'hor.ap_lat.xml.json',\n",
       " 'hor.carm_lat.xml.json',\n",
       " 'hor.carmsaec_lat.xml.json',\n",
       " 'hor.epist_lat.xml.json',\n",
       " 'hor.epodes_lat.xml.json',\n",
       " 'hor.sat_lat.xml.json',\n",
       " 'jerome.sellet_lat.xml.json',\n",
       " 'juv_lat.xml.json',\n",
       " 'lives_lat.xml.json',\n",
       " 'livy.foster01-02_lat.xml.json',\n",
       " 'livy.foster03-04_lat.xml.json',\n",
       " 'livy.foster05-07_lat.xml.json',\n",
       " 'livy.foster08-10_lat.xml.json',\n",
       " 'livy.foster21-22_lat.xml.json',\n",
       " 'livy.moore23-25_lat.xml.json',\n",
       " 'livy.moore26-27_lat.xml.json',\n",
       " 'livy.moore28-30_lat.xml.json',\n",
       " 'livy.sage31-34_lat.xml.json',\n",
       " 'livy.sage35-37_lat.xml.json',\n",
       " 'livy.sage38-39_lat.xml.json',\n",
       " 'livy.sage40-42_lat.xml.json',\n",
       " 'livy.schles43-45_lat.xml.json',\n",
       " 'martial_lat.xml.json',\n",
       " 'minfel.octav_lat.json',\n",
       " 'minfel.octav_lat.xml.json',\n",
       " 'ovid.am_lat.xml.json',\n",
       " 'ovid.fast_lat.xml.json',\n",
       " 'ovid.ibis_lat.xml.json',\n",
       " 'ovid.met_lat.xml.json',\n",
       " 'ovid.pont_lat.xml.json',\n",
       " 'ovid.tr_lat.xml.json',\n",
       " 'persius.sat_lat.json',\n",
       " 'persius.sat_lat.xml.json',\n",
       " 'petr_lat.xml.json',\n",
       " 'ph_lat.xml.json',\n",
       " 'pharsalia_lat.xml.json',\n",
       " 'pl.am_lat.xml.json',\n",
       " 'pl.as_lat.xml.json',\n",
       " 'pl.aul_lat.xml.json',\n",
       " 'pl.bac_lat.xml.json',\n",
       " 'pl.capt_lat.xml.json',\n",
       " 'pl.cas_lat.xml.json',\n",
       " 'pl.cist_lat.xml.json',\n",
       " 'pl.cur_lat.xml.json',\n",
       " 'pl.epid_lat.xml.json',\n",
       " 'pl.men_lat.xml.json',\n",
       " 'pl.mer_lat.xml.json',\n",
       " 'pl.mil_lat.xml.json',\n",
       " 'pl.mos_lat.xml.json',\n",
       " 'pl.per_lat.xml.json',\n",
       " 'pl.poen_lat.xml.json',\n",
       " 'pl.ps_lat.xml.json',\n",
       " 'pl.rud_lat.xml.json',\n",
       " 'pl.st_lat.xml.json',\n",
       " 'pl.trin_lat.xml.json',\n",
       " 'pl.truc_lat.xml.json',\n",
       " 'pliny.min.letters_lat.xml.json',\n",
       " 'prop_lat.xml.json',\n",
       " 'prud.01praef_lat.xml.json',\n",
       " 'prud.02cath_lat.xml.json',\n",
       " 'prud.03apoth_lat.xml.json',\n",
       " 'prud.04harm_lat.xml.json',\n",
       " 'prud.05psych_lat.xml.json',\n",
       " 'prud.06sym_lat.xml.json',\n",
       " 'prud.07steph_lat.xml.json',\n",
       " 'prud.08hist_lat.xml.json',\n",
       " 'prud.09epil_lat.xml.json',\n",
       " 'quint.butler1-3_lat.xml.json',\n",
       " 'quint.butler10-12_lat.xml.json',\n",
       " 'quint.butler4-6_lat.xml.json',\n",
       " 'quint.butler7-9_lat.xml.json',\n",
       " 'sallust.catil_lat.json',\n",
       " 'sallust.catil_lat.xml.json',\n",
       " 'sallust.jugur_lat.json',\n",
       " 'sallust.jugur_lat.xml.json',\n",
       " 'sen.ag_lat.xml.json',\n",
       " 'sen.apoc_lat.xml.json',\n",
       " 'sen.ben_lat.xml.json',\n",
       " 'sen.brev.vit_lat.xml.json',\n",
       " 'sen.cl_lat.xml.json',\n",
       " 'sen.cons.helv_lat.xml.json',\n",
       " 'sen.cons.marc_lat.xml.json',\n",
       " 'sen.cons.polyb_lat.xml.json',\n",
       " 'sen.const_lat.xml.json',\n",
       " 'sen.ep_lat.xml.json',\n",
       " 'sen.her.f_lat.xml.json',\n",
       " 'sen.her.o_lat.xml.json',\n",
       " 'sen.ira_lat.xml.json',\n",
       " 'sen.med_lat.xml.json',\n",
       " 'sen.oct_lat.xml.json',\n",
       " 'sen.oed_lat.xml.json',\n",
       " 'sen.ot.sap_lat.xml.json',\n",
       " 'sen.phaed_lat.xml.json',\n",
       " 'sen.phoen_lat.xml.json',\n",
       " 'sen.prov_lat.xml.json',\n",
       " 'sen.thy_lat.xml.json',\n",
       " 'sen.tranq_lat.xml.json',\n",
       " 'sen.tro_lat.xml.json',\n",
       " 'sen.vit.beat_lat.xml.json',\n",
       " 'seneca.contr_lat.xml.json',\n",
       " 'seneca.excer_lat.xml.json',\n",
       " 'seneca.frag_lat.xml.json',\n",
       " 'seneca.suas_lat.json',\n",
       " 'seneca.suas_lat.xml.json',\n",
       " 'serv.verg.aen_lat.xml.json',\n",
       " 'serv.verg.ecl_lat.xml.json',\n",
       " 'serv.verg.georg_lat.xml.json',\n",
       " 'silius.punica_lat.xml.json',\n",
       " 'stat.achill_lat.xml.json',\n",
       " 'stat.silvae_lat.xml.json',\n",
       " 'stat.theb_lat.xml.json',\n",
       " 'suet.caes_lat.xml.json',\n",
       " 'tac.ag_lat.json',\n",
       " 'tac.ag_lat.xml.json',\n",
       " 'tac.ann_lat.xml.json',\n",
       " 'tac.dial_lat.json',\n",
       " 'tac.dial_lat.xml.json',\n",
       " 'tac.ger_lat.json',\n",
       " 'tac.ger_lat.xml.json',\n",
       " 'tac.hist_lat.xml.json',\n",
       " 'tert.apol_lat.json',\n",
       " 'tert.apol_lat.xml.json',\n",
       " 'tert.spect_lat.json',\n",
       " 'tert.spect_lat.xml.json',\n",
       " 'tibullus.el_lat.xml.json',\n",
       " 'v.fl_lat.xml.json',\n",
       " 'verg.a_lat.xml.json',\n",
       " 'verg.ecl_lat.xml.json',\n",
       " 'verg.g_lat.xml.json',\n",
       " 'vitruv_lat.xml.json',\n",
       " 'washington.bio_lat.json',\n",
       " 'washington.bio_lat.xml.json'}"
      ]
     },
     "execution_count": 13,
     "metadata": {},
     "output_type": "execute_result"
    }
   ],
   "source": [
    "perseus.works"
   ]
  },
  {
   "cell_type": "code",
   "execution_count": 14,
   "id": "e1dd141c-b272-458c-b699-03c203e852bf",
   "metadata": {},
   "outputs": [
    {
     "data": {
      "text/plain": [
       "8"
      ]
     },
     "execution_count": 14,
     "metadata": {},
     "output_type": "execute_result"
    }
   ],
   "source": [
    "len(perseus.get_works_from_author('Tacitus'))"
   ]
  },
  {
   "cell_type": "code",
   "execution_count": 18,
   "id": "55f87e61-4300-4e8a-b3e7-0a2a25747f57",
   "metadata": {},
   "outputs": [
    {
     "name": "stdout",
     "output_type": "stream",
     "text": [
      "Cornelius Tacitus\n",
      "chapter\n",
      "de Origine et Situ Germanorum Liber\n",
      "Ne ferrum quidem superest, sicut ex genere telorum \n",
      "colligitur. rari gladiis aut maioribus lanceis utuntur: hastas \n",
      "vel ipsorum vocabulo frameas gerunt angusto et brevi ferro, \n",
      "sed ita acri et ad usum habili, ut eodem telo, prout ratio \n",
      "\n",
      "Eundem Germaniae sinum proximi Oceano Cimbri tenent, \n",
      "parva nunc civitas, sed gloria ingens. veterisque famae lata \n",
      "vestigia manent, utraque ripa castra ac spatia, quorum \n",
      "ambitu nunc quoque metiaris molem manusque gentis et \n",
      "\n",
      "Germania omnis a Gallis Raetisque et Pannoniis Rheno \n",
      "et Danubio fluminibus, a Sarmatis Dacisque mutuo metu \n",
      "aut montibus separatur: cetera Oceanus ambit, latos sinus \n",
      "et insularum immensa spatia complectens, nuper cognitis \n",
      "quibusdam gentibus ac regibus, quos bellum aperuit. \n",
      "\n",
      "Auspicia sortesque ut qui maxime observant. sortium \n",
      "consuetudo simplex. virgam frugiferae arbori decisam in \n",
      "surculos amputant eosque notis quibusdam discretos super \n",
      "\n",
      "Funerum nulla ambitio: id solum observatur ut corpora \n",
      "\n",
      "De minoribus rebus principes consultant, de maioribus \n",
      "omnes, ita tamen ut ea quoque, quorum penes plebem \n",
      "\n",
      "Ipse eorum opinionibus accedo qui Germaniae populos \n",
      "nullis aliarum nationum conubiis infectos propriam et \n",
      "sinceram et tantum sui similem gentem extitisse arbitrantur. \n",
      "\n",
      "Ultra hos Chatti initium sedis ab Hercynio saltu incohant, \n",
      "non ita effusis ac palustribus locis ut ceterae civitates in quas \n",
      "Germania patescit, durant siquidem colles, paulatim rarescunt, et Chattos suos saltus Hercynius prosequitur simul   \n",
      "\n",
      "Faenus agitare et in usuras extendere ignotum; ideoque \n",
      "magis servatur quam si vetitum esset. agri pro numero cultorum ab universis in vices occupantur, quos mox inter se \n",
      "secundum dignationem partiuntur; facilitatem partiendi \n",
      "\n",
      "Omnium harum gentium virtute praecipui Batavi non \n",
      "multum ex ripa, sed insulam Rheni amnis colunt, Chattorum quondam populus et seditione domestica in eas sedes \n",
      "\n",
      "Nunc de Suebis dicendum est, quorum non una ut \n",
      "Chattorum Tencterorumve gens; maiorem enim Germaniae \n",
      "partem obtinent, propriis adhuc nationibus nominibusque \n",
      "\n",
      "Validiores olim Gallorum res fuisse summus auctorum \n",
      "divus Iulius tradit; eoque credibile est etiam Gallos in \n",
      "Germaniam transgressos. quantulum enim amnis obstabat \n",
      "quo minus, ut quaeque gens evaluerat, occuparet permutaretque sedes promiscas adhuc et nulla regnorum potentia \n",
      "\n",
      "Reges ex nobilitate, duces ex virtute sumunt. nec regibus infinita ac libera potestas, et duces exemplo potius \n",
      "quam imperio, si prompti, si conspicui, si ante aciem agant, \n",
      "\n",
      "Memoriae proditur quasdam acies inclinatas iam et labantes a feminis restitutas constantia precum et obiectu \n",
      "pectorum et monstrata comminus captivitate, quam longe \n",
      "impatientius feminarum suarum nomine timent, adeo ut \n",
      "efficacius obligentur animi civitatum quibus inter obsides \n",
      "\n",
      "Ipsos Germanos indigenas crediderim minimeque aliarum \n",
      "gentium adventibus et hospitiis mixtos, quia nec terra olim \n",
      "sed classibus advehebantur qui mutare sedes quaerebant, et \n",
      "immensus ultra utque sic dixerim adversus Oceanus raris ab \n",
      "orbe nostro navibus aditur. \n",
      "\n",
      "Nihil autem neque publicae neque privatae rei nisi armati \n",
      "agunt. sed arma sumere non ante cuiquam moris quam \n",
      "civitas suffecturum probaverit. tum in ipso concilio vel \n",
      "principum aliquis vel pater vel propinqui scuto frameaque \n",
      "iuvenem ornant: haec apud illos toga, hic primus iuventae \n",
      "honos; ante hoc domus pars videntur, mox rei publicae. \n",
      "\n",
      "Proximi Chattis certum iam alveo Rhenum quique \n",
      "\n",
      "Ceteris servis non in nostrum morem descriptis per \n",
      "familiam ministeriis utuntur: suam quisque sedem, suos \n",
      "penates regit. frumenti modum dominus aut pecoris aut \n",
      "vestis ut colono iniungit, et servus hactenus paret; cetera \n",
      "\n",
      "Genus spectaculorum unum atque in omni coetu idem: \n",
      "nudi iuvenes, quibus id ludicrum est, inter gladios se atque \n",
      "\n",
      "Tegumen omnibus sagum fibula aut, si desit, spina consertum: cetera intecti totos dies iuxta focum atque ignem \n",
      "agunt. locupletissimi veste distinguuntur non fluitante, \n",
      "sicut Sarmatae ac Parthi, sed stricta et singulos artus exprimente. \n",
      "\n",
      "Iuxta Tencteros Bructeri olim occurrebant: nunc Chamavos et Angrivarios immigrasse narratur, pulsis Bructeris \n",
      "ac penitus excisis vicinarum consensu nationum, seu superbiae odio seu praedae dulcedine seu favore quodam erga \n",
      "nos deorum; nam ne spectaculo quidem proelii invidere. \n",
      "\n",
      "Iuxta Hermunduros Naristi ac deinde Marcomani et \n",
      "Quadi agunt. praecipua Marcomanorum gloria viresque, \n",
      "atque ipsa etiam sedes pulsis olim Boiis virtute parta. nec \n",
      "Naristi Quadive degenerant. eaque Germaniae velut frons \n",
      "\n",
      "Deorum maxime Mercurium colunt, cui certis diebus \n",
      "humanis quoque hostiis litare fas habent. Herculem ac \n",
      "Martem concessis animalibus placant. \n",
      "\n",
      "Trans Suionas aliud mare, pigrum ac prope immotum, \n",
      "quo cingi claudique terrarum orbem hinc fides, quod extremus cadentis iam solis fulgor in ortus edurat adeo clarus \n",
      "ut sidera hebetet; sonum insuper emergentis audiri formasque equorum et radios capitis aspici persuasio adicit. \n",
      "\n",
      "Hactenus in occidentem Germaniam novimus; in septentrionem ingenti flexu recedit. ac primo statim Chaucorum \n",
      "gens, quamquam incipiat a Frisiis ac partem litoris occupet, \n",
      "omnium quas exposui gentium lateribus obtenditur, donec \n",
      "\n",
      "Quamquam severa illic matrimonia, nec ullam morum \n",
      "partem magis laudaveris. nam prope soli barbarorum singulis uxoribus contenti sunt, exceptis admodum paucis, qui \n",
      "non libidine sed ob nobilitatem plurimis nuptiis ambiuntur. \n",
      "\n",
      "Retro Marsigni, Cotini, Osi, Buri terga Marcomanorum \n",
      "Quadorumque claudunt. e quibus Marsigni et Buri sermone cultuque Suebos referunt: Cotinos Gallica, Osos \n",
      "Pannonica lingua coarguit non esse Germanos, et quod \n",
      "\n",
      "Et aliis Germanorum populis usurpatum raro et privata \n",
      "cuiusque audentia apud Chattos in consensum vertit, ut \n",
      "primum adoleverint, crinem barbamque submittere, nec nisi \n",
      "hoste caeso exuere votivum obligatumque virtuti oris habitum.\n",
      "\n",
      "In latere Chaucorum Chattorumque Cherusci nimiam ac \n",
      "marcentem diu pacem inlacessiti nutrierunt; idque iucundius quam tutius fuit, quia inter impotentes et validos falso \n",
      "quiescas: ubi manu agitur, modestia ac probitas nomina \n",
      "\n",
      "Vetustissimos nobilissimosque Sueborum Semnones memorant; fides antiquitatis religione firmatur. \n",
      "\n",
      "Suionum hinc civitates, ipso in Oceano, praeter viros \n",
      "armaque classibus valent. forma navium eo differt quod \n",
      "utrimque prora paratam semper adpulsui frontem agit. nec \n",
      "velis ministrant nec remos in ordinem lateribus adiungunt: \n",
      "solutum, ut in quibusdam fluminum, et mutabile, ut res \n",
      "\n",
      "Et haec quidem pars Sueborum in secretiora Germaniae \n",
      "porrigitur: propior, ut, quo modo paulo ante Rhenum, sic \n",
      "nunc Danubium sequar, Hermundurorum civitas, fida Romanis; eoque solis Germanorum non in ripa commercium, \n",
      "sed penitus atque in splendidissima Raetiae provinciae \n",
      "\n",
      "Quotiens bella non ineunt, non multum venatibus, plus \n",
      "per otium transigunt, dediti somno ciboque: fortissimus \n",
      "quisque ac bellicosissimus nihil agens, delegata domus et \n",
      "penatium et agrorum cura feminis senibusque et infirmissimo cuique ex familia, ipsi hebent, mira diversitate naturae, \n",
      "cum idem homines sic ament inertiam et oderint quietem. \n",
      "\n",
      "Angrivarios et Chamavos a tergo Dulgubnii et Chasuarii \n",
      "claudunt aliaeque gentes haud perinde memoratae, a fronte \n",
      "Frisii excipiunt. maioribus minoribusque Frisiis vocabulum \n",
      "est ex modo virium. utraeque nationes usque ad Oceanum \n",
      "Rheno praetexuntur ambiuntque immensos insuper lacus et \n",
      "\n",
      "Ergo saepta pudicitia agunt, nullis spectaculorum illecebris, nullis conviviorum irritationibus corruptae. \n",
      "\n",
      "Fuisse et apud eos Herculem memorant, primumque \n",
      "omnium virorum fortium ituri in proelia canunt. sunt \n",
      "illis haec quoque carmina quorum relatu, quem baritum \n",
      "vocant, accendunt animos futuraeque pugnae fortunam ipso \n",
      "cantu augurantur; terrent enim trepidantve, prout sonuit \n",
      "acies, nec tam vocis ille quam virtutis concentus videtur. \n",
      "\n",
      "Hic Suebiae finis. Peucinorum Venethorumque et Fennorum nationes Germanis an Sarmatis adscribam dubito. \n",
      "quamquam Peucini, quos quidam Bastarnas vocant, sermone \n",
      "cultu sede ac domiciliis ut Germani agunt. sordes omnium \n",
      "ac torpor procerum: conubiis mixtis nonnihil in Sarmatarum habitum foedantur. \n",
      "\n",
      "Nullas Germanorum populis urbes habitari satis notum \n",
      "est, ne pati quidem inter se iunctas sedes. colunt discreti \n",
      "\n",
      "Contra Langobardos paucitas nobilitat: plurimis ac \n",
      "valentissimis nationibus cincti non per obsequium sed \n",
      "proeliis et periclitando tuti sunt. Reudigni deinde et \n",
      "Aviones et Anglii et Varini et Eudoses et Suarines et \n",
      "\n",
      "Licet apud concilium accusare quoque et discrimen \n",
      "capitis intendere. distinctio poenarum ex delicto: proditores et transfugas arboribus suspendunt, ignavos et imbelles \n",
      "et corpore infames caeno ac palude, iniecta insuper crate, \n",
      "\n",
      "In omni domo nudi ac sordidi in hos artus, in haec \n",
      "corpora, quae miramur, excrescunt. sua quemque mater \n",
      "\n",
      "Statim e somno, quem plerumque in diem extrahunt, \n",
      "lavantur, saepius calida, ut apud quos plurimum hiems   \n",
      "occupat. lauti cibum capiunt: separatae singulis sedes et \n",
      "sua cuique mensa. tum ad negotia nec minus saepe ad \n",
      "\n",
      "Terra etsi aliquanto specie differt, in universum tamen \n",
      "aut silvis horrida aut paludibus foeda, humidior qua Gallias, \n",
      "ventosior qua Noricum ac Pannoniam aspicit; satis ferax, \n",
      "frugiferarum arborum impatiens, pecorum fecunda, sed \n",
      "\n",
      "Cum ventum in aciem, turpe principi virtute vinci, turpe \n",
      "comitatui virtutem principis non adaequare. iam vero \n",
      "infame in omnem vitam ac probrosum superstitem principi \n",
      "suo ex acie recessisse: illum defendere, tueri, sua quoque \n",
      "fortia facta gloriae eius adsignare praecipuum sacramentum \n",
      "est: principes pro victoria pugnant, comites pro principe. \n",
      "\n",
      "Potui humor ex hordeo aut frumento, in quandam similitudinem vini corruptus; proximi ripae et vinum mercantur. \n",
      "cibi simplices, agrestia poma, recens fera aut lac concretum: \n",
      "sine apparatu, sine blandimentis expellunt famem. adversus \n",
      "\n",
      "Suscipere tam inimicitias seu patris seu propinqui quam \n",
      "amicitias necesse est. nec implacabiles durant: luitur enim \n",
      "etiam homicidium certo armentorum ac pecorum numero \n",
      "recipitque satisfactionem universa domus, utiliter in publicum, quia periculosiores sunt inimicitiae iuxta libertatem. \n",
      "\n"
     ]
    }
   ],
   "source": [
    "print(perseus.get_works_from_author('Tacitus')[4].text)"
   ]
  },
  {
   "cell_type": "code",
   "execution_count": 19,
   "id": "bdce0892-2327-4532-9ca1-546cebf39267",
   "metadata": {},
   "outputs": [],
   "source": [
    "cicero_works = perseus.get_works_from_author(\"Cicero\")"
   ]
  },
  {
   "cell_type": "code",
   "execution_count": 20,
   "id": "f76aad54-5d1d-4b04-91d1-25e493c14980",
   "metadata": {},
   "outputs": [],
   "source": [
    "tacitus_works = perseus.get_works_from_author(\"Tacitus\")"
   ]
  },
  {
   "cell_type": "code",
   "execution_count": 21,
   "id": "412f99fa-ba34-4fca-ab3a-23d3f8babe35",
   "metadata": {},
   "outputs": [
    {
     "data": {
      "text/plain": [
       "30"
      ]
     },
     "execution_count": 21,
     "metadata": {},
     "output_type": "execute_result"
    }
   ],
   "source": [
    "len(cicero_works)"
   ]
  },
  {
   "cell_type": "code",
   "execution_count": 22,
   "id": "041701b0-be35-49fa-a378-2a37acc9f2b9",
   "metadata": {},
   "outputs": [
    {
     "data": {
      "text/plain": [
       "8"
      ]
     },
     "execution_count": 22,
     "metadata": {},
     "output_type": "execute_result"
    }
   ],
   "source": [
    "len(tacitus_works)"
   ]
  },
  {
   "cell_type": "code",
   "execution_count": 23,
   "id": "1e09e706-0ace-42c4-a2db-d37749bce7f2",
   "metadata": {},
   "outputs": [],
   "source": [
    "testing_corpus = Corpus(\"test_Cicero_Tacitus\")"
   ]
  },
  {
   "cell_type": "code",
   "execution_count": 24,
   "id": "155fde18-f3f7-4587-8006-1bcb3b68160f",
   "metadata": {},
   "outputs": [],
   "source": [
    "for w in cicero_works[:4]:\n",
    "    w.text = w.text[:50]\n",
    "    testing_corpus.add_piece_of_work(w)"
   ]
  },
  {
   "cell_type": "code",
   "execution_count": 25,
   "id": "365663a1-ce96-465d-b7fe-fe0f62d551b9",
   "metadata": {},
   "outputs": [],
   "source": [
    "for w in tacitus_works[:4]:\n",
    "    w.text = w.text[:50]\n",
    "    testing_corpus.add_piece_of_work(w)"
   ]
  },
  {
   "cell_type": "code",
   "execution_count": 26,
   "id": "2cc4ec08-5762-4481-a797-ced109cee810",
   "metadata": {},
   "outputs": [
    {
     "data": {
      "text/plain": [
       "8"
      ]
     },
     "execution_count": 26,
     "metadata": {},
     "output_type": "execute_result"
    }
   ],
   "source": [
    "len(testing_corpus.works)"
   ]
  },
  {
   "cell_type": "code",
   "execution_count": 27,
   "id": "fabd5255-50c9-4dcc-9428-ef3cb631a02f",
   "metadata": {},
   "outputs": [],
   "source": [
    "test_data_path = Path(\"../tests/data/small_sample_corpus\")"
   ]
  },
  {
   "cell_type": "code",
   "execution_count": 28,
   "id": "f0d20049-d74d-4e31-ac2b-310a75597c63",
   "metadata": {},
   "outputs": [
    {
     "data": {
      "text/plain": [
       "True"
      ]
     },
     "execution_count": 28,
     "metadata": {},
     "output_type": "execute_result"
    }
   ],
   "source": [
    "test_data_path.exists()"
   ]
  },
  {
   "cell_type": "code",
   "execution_count": 30,
   "id": "6b5f843a-ede8-4dda-be94-5df72be369df",
   "metadata": {},
   "outputs": [],
   "source": [
    "testing_corpus.to_files(test_data_path)"
   ]
  },
  {
   "cell_type": "code",
   "execution_count": 31,
   "id": "bb1cc5c9-4329-4120-bde1-cd41341f38e2",
   "metadata": {},
   "outputs": [
    {
     "name": "stdout",
     "output_type": "stream",
     "text": [
      "../tests/data/small_sample_corpus/test_Cicero_Tacitus/Cicero\n",
      "../tests/data/small_sample_corpus/test_Cicero_Tacitus/Tacitus\n"
     ]
    }
   ],
   "source": [
    "for f in (test_data_path / testing_corpus.name).iterdir():\n",
    "    print(f)"
   ]
  },
  {
   "cell_type": "code",
   "execution_count": null,
   "id": "0d8a35db-578c-4316-b2b0-5b948517b73c",
   "metadata": {},
   "outputs": [],
   "source": []
  }
 ],
 "metadata": {
  "kernelspec": {
   "display_name": "Python 3 (ipykernel)",
   "language": "python",
   "name": "python3"
  },
  "language_info": {
   "codemirror_mode": {
    "name": "ipython",
    "version": 3
   },
   "file_extension": ".py",
   "mimetype": "text/x-python",
   "name": "python",
   "nbconvert_exporter": "python",
   "pygments_lexer": "ipython3",
   "version": "3.9.6"
  }
 },
 "nbformat": 4,
 "nbformat_minor": 5
}
