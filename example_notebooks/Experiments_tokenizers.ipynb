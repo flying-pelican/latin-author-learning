{
 "cells": [
  {
   "cell_type": "code",
   "execution_count": 75,
   "id": "a0a431fb-2f28-4be2-9aec-18108be7e483",
   "metadata": {},
   "outputs": [],
   "source": [
    "from latin_author_learning.tokenize import SentenceAwareEncoder, get_subtoken_strings\n",
    "from torch import tensor"
   ]
  },
  {
   "cell_type": "code",
   "execution_count": 76,
   "id": "ab003063-3fc9-4c30-9ffb-d08df9f99d96",
   "metadata": {},
   "outputs": [],
   "source": [
    "from pathlib import Path"
   ]
  },
  {
   "cell_type": "code",
   "execution_count": 77,
   "id": "c0e169e6-8edc-430b-8f38-cfb7e8151807",
   "metadata": {},
   "outputs": [],
   "source": [
    "tokenizer_path = Path(\"../latin_tokenizer/latin.subword.encoder\")"
   ]
  },
  {
   "cell_type": "code",
   "execution_count": 78,
   "id": "f32bdf93-3aa8-4048-82ca-bb3dea5205b6",
   "metadata": {},
   "outputs": [],
   "source": [
    "tokenizer = SentenceAwareEncoder(get_subtoken_strings(tokenizer_path))"
   ]
  },
  {
   "cell_type": "code",
   "execution_count": 79,
   "id": "b037ba34-ec99-4b11-a64e-c4ab22a7b13d",
   "metadata": {},
   "outputs": [
    {
     "data": {
      "text/plain": [
       "tensor([ 3006, 20715, 15334, 19495])"
      ]
     },
     "execution_count": 79,
     "metadata": {},
     "output_type": "execute_result"
    }
   ],
   "source": [
    "tokenizer.encode(\"cogito\")"
   ]
  },
  {
   "cell_type": "code",
   "execution_count": 80,
   "id": "a0aed48a-a8d0-4a36-9b8c-3d56a46860d0",
   "metadata": {},
   "outputs": [
    {
     "data": {
      "text/plain": [
       "'c'"
      ]
     },
     "execution_count": 80,
     "metadata": {},
     "output_type": "execute_result"
    }
   ],
   "source": [
    "tokenizer.decode(tensor([3006]))"
   ]
  },
  {
   "cell_type": "code",
   "execution_count": 81,
   "id": "9e9d50d4-fbd9-49cd-8090-1d93ed90dcd5",
   "metadata": {},
   "outputs": [
    {
     "data": {
      "text/plain": [
       "'ito'"
      ]
     },
     "execution_count": 81,
     "metadata": {},
     "output_type": "execute_result"
    }
   ],
   "source": [
    "tokenizer.decode(tensor([19495]))"
   ]
  },
  {
   "cell_type": "code",
   "execution_count": 82,
   "id": "a23c6608-8e56-4257-bc4a-b997a583d2fa",
   "metadata": {},
   "outputs": [
    {
     "data": {
      "text/plain": [
       "'o'"
      ]
     },
     "execution_count": 82,
     "metadata": {},
     "output_type": "execute_result"
    }
   ],
   "source": [
    "tokenizer.decode(tensor([20715]))"
   ]
  },
  {
   "cell_type": "code",
   "execution_count": 83,
   "id": "8946ea01-cb16-4900-8245-ca11288f6638",
   "metadata": {},
   "outputs": [
    {
     "data": {
      "text/plain": [
       "'g'"
      ]
     },
     "execution_count": 83,
     "metadata": {},
     "output_type": "execute_result"
    }
   ],
   "source": [
    "tokenizer.decode(tensor([15334]))"
   ]
  },
  {
   "cell_type": "code",
   "execution_count": 84,
   "id": "52a113ab-8306-4795-a8e3-f5aa90d01549",
   "metadata": {},
   "outputs": [
    {
     "data": {
      "text/plain": [
       "tensor([29578,  6883, 12808,  1511, 20715, 15334, 19495,  5696, 23691, 19399])"
      ]
     },
     "execution_count": 84,
     "metadata": {},
     "output_type": "execute_result"
    }
   ],
   "source": [
    "tokenizer.encode(\"Cogito ergo sum.\")"
   ]
  },
  {
   "cell_type": "code",
   "execution_count": 85,
   "id": "9b322a58-3514-4f55-90b7-6c1becef37bf",
   "metadata": {},
   "outputs": [
    {
     "data": {
      "text/plain": [
       "'C'"
      ]
     },
     "execution_count": 85,
     "metadata": {},
     "output_type": "execute_result"
    }
   ],
   "source": [
    "tokenizer.decode(tensor([29578,  6883, 12808,  1511]))"
   ]
  },
  {
   "cell_type": "code",
   "execution_count": 86,
   "id": "e6145234-f127-4312-8073-44deffe21809",
   "metadata": {},
   "outputs": [
    {
     "data": {
      "text/plain": [
       "tensor([ 3006, 20715, 15334, 19495,  5696, 23691, 19399])"
      ]
     },
     "execution_count": 86,
     "metadata": {},
     "output_type": "execute_result"
    }
   ],
   "source": [
    "tokenizer.encode(\"Cogito ergo sum.\".lower())"
   ]
  },
  {
   "cell_type": "code",
   "execution_count": 87,
   "id": "645e511c-247f-4654-8e73-165770c555d3",
   "metadata": {},
   "outputs": [],
   "source": [
    "vocab = get_subtoken_strings(tokenizer_path)"
   ]
  },
  {
   "cell_type": "code",
   "execution_count": 88,
   "id": "780af061-fd2d-4eb9-87c4-1d6db54d2709",
   "metadata": {},
   "outputs": [],
   "source": [
    "vocab += [\"cogit\"]"
   ]
  },
  {
   "cell_type": "code",
   "execution_count": 89,
   "id": "7aa1ed30-0da8-4394-a757-b6359f387025",
   "metadata": {},
   "outputs": [],
   "source": [
    "tokenizer = SentenceAwareEncoder(vocab)"
   ]
  },
  {
   "cell_type": "code",
   "execution_count": 90,
   "id": "f1a3ac51-dbd7-47e4-97d2-67ecc21d8c15",
   "metadata": {},
   "outputs": [
    {
     "data": {
      "text/plain": [
       "tensor([ 3006, 20715, 15334, 19495])"
      ]
     },
     "execution_count": 90,
     "metadata": {},
     "output_type": "execute_result"
    }
   ],
   "source": [
    "tokenizer.encode(\"cogito\")"
   ]
  },
  {
   "cell_type": "code",
   "execution_count": 91,
   "id": "713e3bc3-1df3-4a82-b76c-f726a483a936",
   "metadata": {},
   "outputs": [
    {
     "data": {
      "text/plain": [
       "tensor([5696])"
      ]
     },
     "execution_count": 91,
     "metadata": {},
     "output_type": "execute_result"
    }
   ],
   "source": [
    "tokenizer.encode(\"ergo\")"
   ]
  },
  {
   "cell_type": "code",
   "execution_count": 92,
   "id": "9d2a8caf-18e5-4232-a5c8-d9cc0f184f47",
   "metadata": {},
   "outputs": [
    {
     "data": {
      "text/plain": [
       "tensor([23691])"
      ]
     },
     "execution_count": 92,
     "metadata": {},
     "output_type": "execute_result"
    }
   ],
   "source": [
    "tokenizer.encode(\"sum\")"
   ]
  },
  {
   "cell_type": "code",
   "execution_count": 93,
   "id": "4ccec93c-804a-4bd9-8911-e3aa411c0e4a",
   "metadata": {},
   "outputs": [
    {
     "data": {
      "text/plain": [
       "tensor([23691, 19399])"
      ]
     },
     "execution_count": 93,
     "metadata": {},
     "output_type": "execute_result"
    }
   ],
   "source": [
    "tokenizer.encode(\"sum.\")"
   ]
  },
  {
   "cell_type": "code",
   "execution_count": 94,
   "id": "98095a3e-f92a-486d-b900-448c415208ed",
   "metadata": {},
   "outputs": [
    {
     "data": {
      "text/plain": [
       "tensor([19399])"
      ]
     },
     "execution_count": 94,
     "metadata": {},
     "output_type": "execute_result"
    }
   ],
   "source": [
    "tokenizer.encode(\".\")"
   ]
  },
  {
   "cell_type": "code",
   "execution_count": 95,
   "id": "6b2ec186-552d-4587-a1c5-b26e68159ab6",
   "metadata": {},
   "outputs": [
    {
     "data": {
      "text/plain": [
       "tensor([10507,   564,  6321, 19399])"
      ]
     },
     "execution_count": 95,
     "metadata": {},
     "output_type": "execute_result"
    }
   ],
   "source": [
    "tokenizer.encode(\"Errare humanum est.\".lower())"
   ]
  },
  {
   "cell_type": "code",
   "execution_count": 96,
   "id": "39866849-faf5-4647-97ec-dc83bf8c7645",
   "metadata": {},
   "outputs": [
    {
     "data": {
      "text/plain": [
       "tensor([ 3006, 20715, 15334, 19495,  5696, 23691,  9841, 29578,  2702, 31127,\n",
       "        15565, 10507,   564,  6321, 19399])"
      ]
     },
     "execution_count": 96,
     "metadata": {},
     "output_type": "execute_result"
    }
   ],
   "source": [
    "tokenizer.encode(\"Cogito ergo sum. Errare humanum est.\".lower())"
   ]
  },
  {
   "cell_type": "code",
   "execution_count": 97,
   "id": "1845b213-567c-4f4e-93eb-b15973905510",
   "metadata": {},
   "outputs": [
    {
     "data": {
      "text/plain": [
       "tensor([23691,  9841, 29578,  2702, 31127, 15565, 10507])"
      ]
     },
     "execution_count": 97,
     "metadata": {},
     "output_type": "execute_result"
    }
   ],
   "source": [
    "tokenizer.encode(\"sum. Errare\".lower())"
   ]
  },
  {
   "cell_type": "code",
   "execution_count": 98,
   "id": "0001d790-711b-412d-88e3-0f2b1e9d4bf7",
   "metadata": {},
   "outputs": [
    {
     "data": {
      "text/plain": [
       "tensor([23691, 19399, 10507])"
      ]
     },
     "execution_count": 98,
     "metadata": {},
     "output_type": "execute_result"
    }
   ],
   "source": [
    "tokenizer.encode(\"sum.Errare\".lower())"
   ]
  },
  {
   "cell_type": "code",
   "execution_count": 99,
   "id": "01097a17-7d07-4138-9f84-56bbe0dfa8f3",
   "metadata": {},
   "outputs": [
    {
     "data": {
      "text/plain": [
       "tensor([ 9841, 29578,  2702, 31127, 15565])"
      ]
     },
     "execution_count": 99,
     "metadata": {},
     "output_type": "execute_result"
    }
   ],
   "source": [
    "tokenizer.encode(\". \")"
   ]
  },
  {
   "cell_type": "code",
   "execution_count": 100,
   "id": "6c7ceca0-ee58-4e38-a234-e048814f3615",
   "metadata": {},
   "outputs": [
    {
     "data": {
      "text/plain": [
       "tensor([29578,  2702, 31127, 15565])"
      ]
     },
     "execution_count": 100,
     "metadata": {},
     "output_type": "execute_result"
    }
   ],
   "source": [
    "tokenizer.encode(\" \")"
   ]
  },
  {
   "cell_type": "code",
   "execution_count": 101,
   "id": "64169c60-444f-464c-b5f5-d6507608460e",
   "metadata": {},
   "outputs": [
    {
     "data": {
      "text/plain": [
       "tensor([19399])"
      ]
     },
     "execution_count": 101,
     "metadata": {},
     "output_type": "execute_result"
    }
   ],
   "source": [
    "tokenizer.encode(\".\")"
   ]
  },
  {
   "cell_type": "code",
   "execution_count": 102,
   "id": "ca0c53e5-7158-4866-8e5a-6b1e275a0da5",
   "metadata": {},
   "outputs": [
    {
     "data": {
      "text/plain": [
       "tensor([29578,  2702, 31127,  1511,  9841, 29578,  2702, 31127, 15565])"
      ]
     },
     "execution_count": 102,
     "metadata": {},
     "output_type": "execute_result"
    }
   ],
   "source": [
    "tokenizer.encode(\" . \")"
   ]
  },
  {
   "cell_type": "code",
   "execution_count": 106,
   "id": "9e965fa5-f085-4ae7-b06f-8672665d2c4f",
   "metadata": {},
   "outputs": [],
   "source": [
    "vocab.append(\" . _\")"
   ]
  },
  {
   "cell_type": "code",
   "execution_count": 107,
   "id": "511f65d1-950b-45ca-8591-662351bac4e3",
   "metadata": {},
   "outputs": [],
   "source": [
    "tokenizer = SentenceAwareEncoder(vocab)"
   ]
  },
  {
   "cell_type": "code",
   "execution_count": 109,
   "id": "cc6339d8-1b0c-4753-8b18-a76731f06b4e",
   "metadata": {},
   "outputs": [],
   "source": [
    "from latin_author_learning.tokenize import STARTS, ENDS"
   ]
  },
  {
   "cell_type": "code",
   "execution_count": 113,
   "id": "8511c39e-453e-4916-83a7-ead56fa55e31",
   "metadata": {},
   "outputs": [
    {
     "data": {
      "text/plain": [
       "tensor([31263,  9842, 31263,  8906, 22522, 24491])"
      ]
     },
     "execution_count": 113,
     "metadata": {},
     "output_type": "execute_result"
    }
   ],
   "source": [
    "tokenizer.encode(f\" . {ENDS} {STARTS}\")"
   ]
  },
  {
   "cell_type": "code",
   "execution_count": 114,
   "id": "297ba3bb-ba6a-4a54-8b6e-f78a48b4794a",
   "metadata": {},
   "outputs": [
    {
     "data": {
      "text/plain": [
       "tensor([31263,  9842, 31263,  8906])"
      ]
     },
     "execution_count": 114,
     "metadata": {},
     "output_type": "execute_result"
    }
   ],
   "source": [
    "tokenizer.encode(f\" . \")"
   ]
  },
  {
   "cell_type": "code",
   "execution_count": 115,
   "id": "f289229c-7312-480e-966d-41f38836bd2a",
   "metadata": {},
   "outputs": [
    {
     "data": {
      "text/plain": [
       "' '"
      ]
     },
     "execution_count": 115,
     "metadata": {},
     "output_type": "execute_result"
    }
   ],
   "source": [
    "tokenizer.decode([31263])"
   ]
  },
  {
   "cell_type": "code",
   "execution_count": 116,
   "id": "01b139eb-0eaf-4cc7-a27a-c85a261f0bd9",
   "metadata": {},
   "outputs": [
    {
     "data": {
      "text/plain": [
       "'.'"
      ]
     },
     "execution_count": 116,
     "metadata": {},
     "output_type": "execute_result"
    }
   ],
   "source": [
    "tokenizer.decode([9842])"
   ]
  },
  {
   "cell_type": "code",
   "execution_count": 117,
   "id": "8cd76054-1587-429e-965a-f09d86b64534",
   "metadata": {},
   "outputs": [
    {
     "data": {
      "text/plain": [
       "''"
      ]
     },
     "execution_count": 117,
     "metadata": {},
     "output_type": "execute_result"
    }
   ],
   "source": [
    "tokenizer.decode([8906])"
   ]
  },
  {
   "cell_type": "code",
   "execution_count": 118,
   "id": "233575d4-5c2d-4b9b-95a8-1512daae12c9",
   "metadata": {},
   "outputs": [
    {
     "data": {
      "text/plain": [
       "tensor([23692, 19400])"
      ]
     },
     "execution_count": 118,
     "metadata": {},
     "output_type": "execute_result"
    }
   ],
   "source": [
    "tokenizer.encode(\"sum.\")"
   ]
  },
  {
   "cell_type": "code",
   "execution_count": 119,
   "id": "70e46670-d245-4c62-8ad7-319fadff428b",
   "metadata": {},
   "outputs": [
    {
     "data": {
      "text/plain": [
       "'sum'"
      ]
     },
     "execution_count": 119,
     "metadata": {},
     "output_type": "execute_result"
    }
   ],
   "source": [
    "tokenizer.decode([23692])"
   ]
  },
  {
   "cell_type": "code",
   "execution_count": 120,
   "id": "2729b7c1-c7b0-4574-8ef8-03cfd6dc0aed",
   "metadata": {},
   "outputs": [
    {
     "data": {
      "text/plain": [
       "'.'"
      ]
     },
     "execution_count": 120,
     "metadata": {},
     "output_type": "execute_result"
    }
   ],
   "source": [
    "tokenizer.decode([19400])"
   ]
  },
  {
   "cell_type": "code",
   "execution_count": 121,
   "id": "b58c4fb7-fa5c-4099-beea-c9d64f78f5ef",
   "metadata": {},
   "outputs": [
    {
     "data": {
      "text/plain": [
       "tensor([23692,  5186])"
      ]
     },
     "execution_count": 121,
     "metadata": {},
     "output_type": "execute_result"
    }
   ],
   "source": [
    "tokenizer.encode(\"sum?\")"
   ]
  },
  {
   "cell_type": "code",
   "execution_count": 122,
   "id": "e59d52d5-a639-4f16-b56e-4b55db0cb3d8",
   "metadata": {},
   "outputs": [
    {
     "data": {
      "text/plain": [
       "tensor([31263,  8470, 31263,  8906])"
      ]
     },
     "execution_count": 122,
     "metadata": {},
     "output_type": "execute_result"
    }
   ],
   "source": [
    "tokenizer.encode(\" ? \")"
   ]
  },
  {
   "cell_type": "code",
   "execution_count": 123,
   "id": "d3023210-33ac-48e5-9e96-380f1132aaee",
   "metadata": {},
   "outputs": [
    {
     "data": {
      "text/plain": [
       "tensor([31263, 18397, 31263,  8906])"
      ]
     },
     "execution_count": 123,
     "metadata": {},
     "output_type": "execute_result"
    }
   ],
   "source": [
    "tokenizer.encode(\" , \")"
   ]
  },
  {
   "cell_type": "code",
   "execution_count": 124,
   "id": "38a6e10e-ac5d-4cae-a50f-c44a95acc554",
   "metadata": {},
   "outputs": [
    {
     "data": {
      "text/plain": [
       "tensor([31263,  1511, 31263,  8906])"
      ]
     },
     "execution_count": 124,
     "metadata": {},
     "output_type": "execute_result"
    }
   ],
   "source": [
    "tokenizer.encode(\" ; \")"
   ]
  },
  {
   "cell_type": "code",
   "execution_count": 49,
   "id": "ba263773-4648-44ec-a566-0a1af362eff2",
   "metadata": {},
   "outputs": [
    {
     "data": {
      "text/plain": [
       "tensor([10507])"
      ]
     },
     "execution_count": 49,
     "metadata": {},
     "output_type": "execute_result"
    }
   ],
   "source": [
    "tokenizer.encode(\"errare\")"
   ]
  },
  {
   "cell_type": "code",
   "execution_count": 50,
   "id": "3aef0d91-e18f-451c-bb2a-a4ad29c7d6e7",
   "metadata": {},
   "outputs": [
    {
     "data": {
      "text/plain": [
       "tensor([23691, 19399])"
      ]
     },
     "execution_count": 50,
     "metadata": {},
     "output_type": "execute_result"
    }
   ],
   "source": [
    "tokenizer.encode(\"sum.\")"
   ]
  },
  {
   "cell_type": "code",
   "execution_count": 51,
   "id": "dc7a859e-fe7b-4426-b1b9-b30ac28fee45",
   "metadata": {},
   "outputs": [
    {
     "data": {
      "text/plain": [
       "tensor([  564,  6321, 19399])"
      ]
     },
     "execution_count": 51,
     "metadata": {},
     "output_type": "execute_result"
    }
   ],
   "source": [
    "tokenizer.encode(\"humanum est.\")"
   ]
  },
  {
   "cell_type": "code",
   "execution_count": 52,
   "id": "4f6d296d-ccf5-4575-aa63-037ffb042e99",
   "metadata": {},
   "outputs": [
    {
     "data": {
      "text/plain": [
       "tensor([ 3006, 20715, 15334, 19495,  5696, 23691,  9841, 29578,  2702, 31127,\n",
       "        15565, 10507,   564,  6321, 19399])"
      ]
     },
     "execution_count": 52,
     "metadata": {},
     "output_type": "execute_result"
    }
   ],
   "source": [
    "tokenizer.encode(\"Cogito ergo sum. Errare humanum est.\".lower())"
   ]
  },
  {
   "cell_type": "code",
   "execution_count": 53,
   "id": "0cc44b76-a844-4d90-9bf1-8f4fde9fa1f9",
   "metadata": {},
   "outputs": [],
   "source": [
    "dummy_tokenizer = SentenceAwareEncoder([\"cogito_\", \"o_\"])"
   ]
  },
  {
   "cell_type": "code",
   "execution_count": 54,
   "id": "c16e2bd0-2bed-4b81-9f89-a84a8d8f4295",
   "metadata": {},
   "outputs": [
    {
     "data": {
      "text/plain": [
       "tensor([25])"
      ]
     },
     "execution_count": 54,
     "metadata": {},
     "output_type": "execute_result"
    }
   ],
   "source": [
    "dummy_tokenizer.encode(\"cogito\")"
   ]
  },
  {
   "cell_type": "code",
   "execution_count": 55,
   "id": "abef6545-9553-4254-a13d-b23db73737ff",
   "metadata": {},
   "outputs": [
    {
     "data": {
      "text/plain": [
       "tensor([20])"
      ]
     },
     "execution_count": 55,
     "metadata": {},
     "output_type": "execute_result"
    }
   ],
   "source": [
    "dummy_tokenizer.encode(\"o\")"
   ]
  },
  {
   "cell_type": "code",
   "execution_count": 56,
   "id": "df192337-45c7-49de-abea-5958384d7d75",
   "metadata": {},
   "outputs": [
    {
     "data": {
      "text/plain": [
       "tensor([ 5, 23, 24,  6, 31,  8, 11, 32, 20])"
      ]
     },
     "execution_count": 56,
     "metadata": {},
     "output_type": "execute_result"
    }
   ],
   "source": [
    "dummy_tokenizer.encode(\"Cogito\")"
   ]
  },
  {
   "cell_type": "code",
   "execution_count": 57,
   "id": "8573c81a-df8c-4414-9b5b-6501b5e050ee",
   "metadata": {},
   "outputs": [
    {
     "data": {
      "text/plain": [
       "tensor([27, 31,  8, 11, 32, 34])"
      ]
     },
     "execution_count": 57,
     "metadata": {},
     "output_type": "execute_result"
    }
   ],
   "source": [
    "dummy_tokenizer.encode(\"cogit\")"
   ]
  },
  {
   "cell_type": "code",
   "execution_count": 58,
   "id": "ec7e8c36-4b78-4970-b267-27deb962b630",
   "metadata": {},
   "outputs": [],
   "source": [
    "from cltk.tokenizers.lat.lat import LatinPunktSentenceTokenizer as SentenceTokenizer\n",
    "from cltk.tokenizers.lat.lat import LatinWordTokenizer as WordTokenizer"
   ]
  },
  {
   "cell_type": "code",
   "execution_count": 59,
   "id": "0efd1492-ee93-4568-9f80-dbd300b191fd",
   "metadata": {},
   "outputs": [],
   "source": [
    "text = \"Cogito ergo sum. Errare humanum est.\".lower()"
   ]
  },
  {
   "cell_type": "code",
   "execution_count": 60,
   "id": "868c6c94-f133-4980-b13e-adab62533b35",
   "metadata": {},
   "outputs": [],
   "source": [
    "sentences = SentenceTokenizer().tokenize(text)"
   ]
  },
  {
   "cell_type": "code",
   "execution_count": 61,
   "id": "d0c62c83-28de-41c1-8698-061096a4cdd1",
   "metadata": {},
   "outputs": [
    {
     "data": {
      "text/plain": [
       "['cogito ergo sum.', 'errare humanum est.']"
      ]
     },
     "execution_count": 61,
     "metadata": {},
     "output_type": "execute_result"
    }
   ],
   "source": [
    "sentences"
   ]
  },
  {
   "cell_type": "code",
   "execution_count": 62,
   "id": "0a752538-e92f-4b22-a88c-3b5af05ca87c",
   "metadata": {},
   "outputs": [],
   "source": [
    "words = WordTokenizer().tokenize(\" \".join(sentences))"
   ]
  },
  {
   "cell_type": "code",
   "execution_count": 63,
   "id": "c742b962-f16d-4737-a66e-0cd02350ac03",
   "metadata": {},
   "outputs": [
    {
     "data": {
      "text/plain": [
       "['cogito', 'ergo', 'sum', '.', 'errare', 'humanum', 'est', '.']"
      ]
     },
     "execution_count": 63,
     "metadata": {},
     "output_type": "execute_result"
    }
   ],
   "source": [
    "words"
   ]
  },
  {
   "cell_type": "code",
   "execution_count": 64,
   "id": "ccebae96-0781-4e3c-8cff-a1e960d21190",
   "metadata": {},
   "outputs": [
    {
     "data": {
      "text/plain": [
       "tensor([ 3006, 20715, 15334, 19495,  5696, 23691, 29578,  2702, 31127,  1511,\n",
       "         9841, 29578,  2702, 31127, 15565, 10507,   564,  6321, 29578,  2702,\n",
       "        31127,  1511, 19399])"
      ]
     },
     "execution_count": 64,
     "metadata": {},
     "output_type": "execute_result"
    }
   ],
   "source": [
    "tokenizer.encode(\" \".join(words)) "
   ]
  },
  {
   "cell_type": "code",
   "execution_count": 65,
   "id": "10a2a915-ea9d-4cf7-b030-f702434312df",
   "metadata": {},
   "outputs": [
    {
     "data": {
      "text/plain": [
       "'cogito ergo sum . errare humanum est .'"
      ]
     },
     "execution_count": 65,
     "metadata": {},
     "output_type": "execute_result"
    }
   ],
   "source": [
    "tokenizer.decode([ 3006, 20715, 15334, 19495,  5696, 23691, 29578,  2702, 31127,  1511,\n",
    "         9841, 29578,  2702, 31127, 15565, 10507,   564,  6321, 29578,  2702,\n",
    "        31127,  1511, 19399])"
   ]
  },
  {
   "cell_type": "code",
   "execution_count": 66,
   "id": "161dca16-4085-450f-a488-b694792f85cb",
   "metadata": {},
   "outputs": [
    {
     "data": {
      "text/plain": [
       "tensor([ 3006, 20715, 15334, 19495])"
      ]
     },
     "execution_count": 66,
     "metadata": {},
     "output_type": "execute_result"
    }
   ],
   "source": [
    "tokenizer.encode(\"cogito\")"
   ]
  },
  {
   "cell_type": "code",
   "execution_count": 67,
   "id": "3bd04871-b069-4c21-a33f-b0f41aa5d1a7",
   "metadata": {},
   "outputs": [
    {
     "data": {
      "text/plain": [
       "'adora estu fronto vienn'"
      ]
     },
     "execution_count": 67,
     "metadata": {},
     "output_type": "execute_result"
    }
   ],
   "source": [
    "tokenizer.decode([16398, 23733, 16049, 25666])"
   ]
  },
  {
   "cell_type": "code",
   "execution_count": 68,
   "id": "53779d51-9fef-44ce-b0b6-01642bb62a14",
   "metadata": {},
   "outputs": [
    {
     "data": {
      "text/plain": [
       "tensor([31897])"
      ]
     },
     "execution_count": 68,
     "metadata": {},
     "output_type": "execute_result"
    }
   ],
   "source": [
    "tokenizer.encode(\"cogitare\")"
   ]
  },
  {
   "cell_type": "code",
   "execution_count": 69,
   "id": "100b446e-7f9a-42e5-8f27-223628ecf203",
   "metadata": {},
   "outputs": [
    {
     "data": {
      "text/plain": [
       "tensor([6668])"
      ]
     },
     "execution_count": 69,
     "metadata": {},
     "output_type": "execute_result"
    }
   ],
   "source": [
    "tokenizer.encode(\"cogit\")"
   ]
  },
  {
   "cell_type": "code",
   "execution_count": 70,
   "id": "d6208fd1-3def-454a-921b-d240183e10b7",
   "metadata": {},
   "outputs": [
    {
     "data": {
      "text/plain": [
       "tensor([ 3006, 20715, 15334, 21547])"
      ]
     },
     "execution_count": 70,
     "metadata": {},
     "output_type": "execute_result"
    }
   ],
   "source": [
    "tokenizer.encode(\"cogitas\")"
   ]
  },
  {
   "cell_type": "code",
   "execution_count": 71,
   "id": "9afe6ec5-ae12-4414-bf73-1747c753fa01",
   "metadata": {},
   "outputs": [
    {
     "data": {
      "text/plain": [
       "tensor([6321])"
      ]
     },
     "execution_count": 71,
     "metadata": {},
     "output_type": "execute_result"
    }
   ],
   "source": [
    "tokenizer.encode(\"est\")"
   ]
  },
  {
   "cell_type": "code",
   "execution_count": 72,
   "id": "8a1996aa-bca5-4d69-ab03-fe956a38959e",
   "metadata": {},
   "outputs": [
    {
     "data": {
      "text/plain": [
       "tensor([31232])"
      ]
     },
     "execution_count": 72,
     "metadata": {},
     "output_type": "execute_result"
    }
   ],
   "source": [
    "tokenizer.encode(\"errat\")"
   ]
  },
  {
   "cell_type": "code",
   "execution_count": 73,
   "id": "f2c83562-b041-4e3e-80fb-279d83b351c6",
   "metadata": {},
   "outputs": [
    {
     "data": {
      "text/plain": [
       "tensor([2045])"
      ]
     },
     "execution_count": 73,
     "metadata": {},
     "output_type": "execute_result"
    }
   ],
   "source": [
    "tokenizer.encode(\"cogitat\")"
   ]
  },
  {
   "cell_type": "code",
   "execution_count": null,
   "id": "6d021e0d-b193-4b0e-8090-f3085bb69692",
   "metadata": {},
   "outputs": [],
   "source": []
  }
 ],
 "metadata": {
  "kernelspec": {
   "display_name": "Python 3 (ipykernel)",
   "language": "python",
   "name": "python3"
  },
  "language_info": {
   "codemirror_mode": {
    "name": "ipython",
    "version": 3
   },
   "file_extension": ".py",
   "mimetype": "text/x-python",
   "name": "python",
   "nbconvert_exporter": "python",
   "pygments_lexer": "ipython3",
   "version": "3.9.10"
  }
 },
 "nbformat": 4,
 "nbformat_minor": 5
}
