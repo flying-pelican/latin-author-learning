{
 "cells": [
  {
   "cell_type": "code",
   "execution_count": 13,
   "id": "590242bd-9011-4db4-8f0a-07812b2d7545",
   "metadata": {},
   "outputs": [],
   "source": [
    "from cltk.data.fetch import FetchCorpus"
   ]
  },
  {
   "cell_type": "code",
   "execution_count": 26,
   "id": "f5841aa1-a0d5-470b-9c06-ca0807a55e97",
   "metadata": {},
   "outputs": [],
   "source": [
    "corpus_downloader = FetchCorpus(language='lat')\n",
    "\n",
    "corpus_downloader.import_corpus('lat_models_cltk')"
   ]
  },
  {
   "cell_type": "code",
   "execution_count": 1,
   "id": "a0a431fb-2f28-4be2-9aec-18108be7e483",
   "metadata": {},
   "outputs": [],
   "source": [
    "from latin_author_learning.berts import LatinBert, LatinTokenizer"
   ]
  },
  {
   "cell_type": "code",
   "execution_count": 2,
   "id": "ab003063-3fc9-4c30-9ffb-d08df9f99d96",
   "metadata": {},
   "outputs": [],
   "source": [
    "from pathlib import Path"
   ]
  },
  {
   "cell_type": "code",
   "execution_count": 3,
   "id": "c0e169e6-8edc-430b-8f38-cfb7e8151807",
   "metadata": {},
   "outputs": [],
   "source": [
    "tokenizer_path = Path(\"../latin_tokenizer/latin.subword.encoder\")\n",
    "bert_path = Path(\"../latin_bert/\")"
   ]
  },
  {
   "cell_type": "code",
   "execution_count": 4,
   "id": "f32bdf93-3aa8-4048-82ca-bb3dea5205b6",
   "metadata": {},
   "outputs": [],
   "source": [
    "tokenizer = LatinTokenizer(LatinBert.get_subtoken_strings(tokenizer_path))"
   ]
  },
  {
   "cell_type": "code",
   "execution_count": 5,
   "id": "b037ba34-ec99-4b11-a64e-c4ab22a7b13d",
   "metadata": {},
   "outputs": [
    {
     "data": {
      "text/plain": [
       "tensor([16398, 23733, 16049, 25666])"
      ]
     },
     "execution_count": 5,
     "metadata": {},
     "output_type": "execute_result"
    }
   ],
   "source": [
    "tokenizer.encode(\"cogito\")"
   ]
  },
  {
   "cell_type": "code",
   "execution_count": 6,
   "id": "52a113ab-8306-4795-a8e3-f5aa90d01549",
   "metadata": {},
   "outputs": [
    {
     "data": {
      "text/plain": [
       "tensor([11708, 23733, 16049, 25666, 31383, 17041, 16361])"
      ]
     },
     "execution_count": 6,
     "metadata": {},
     "output_type": "execute_result"
    }
   ],
   "source": [
    "tokenizer.encode(\"Cogito ergo sum.\")"
   ]
  },
  {
   "cell_type": "code",
   "execution_count": 7,
   "id": "713e3bc3-1df3-4a82-b76c-f726a483a936",
   "metadata": {},
   "outputs": [
    {
     "data": {
      "text/plain": [
       "tensor([31383])"
      ]
     },
     "execution_count": 7,
     "metadata": {},
     "output_type": "execute_result"
    }
   ],
   "source": [
    "tokenizer.encode(\"ergo\")"
   ]
  },
  {
   "cell_type": "code",
   "execution_count": 43,
   "id": "9d2a8caf-18e5-4232-a5c8-d9cc0f184f47",
   "metadata": {},
   "outputs": [
    {
     "data": {
      "text/plain": [
       "tensor([17041])"
      ]
     },
     "execution_count": 43,
     "metadata": {},
     "output_type": "execute_result"
    }
   ],
   "source": [
    "tokenizer.encode(\"sum\")"
   ]
  },
  {
   "cell_type": "code",
   "execution_count": 9,
   "id": "4ccec93c-804a-4bd9-8911-e3aa411c0e4a",
   "metadata": {},
   "outputs": [
    {
     "data": {
      "text/plain": [
       "tensor([17041, 16361])"
      ]
     },
     "execution_count": 9,
     "metadata": {},
     "output_type": "execute_result"
    }
   ],
   "source": [
    "tokenizer.encode(\"sum.\")"
   ]
  },
  {
   "cell_type": "code",
   "execution_count": 10,
   "id": "98095a3e-f92a-486d-b900-448c415208ed",
   "metadata": {},
   "outputs": [
    {
     "data": {
      "text/plain": [
       "tensor([16361])"
      ]
     },
     "execution_count": 10,
     "metadata": {},
     "output_type": "execute_result"
    }
   ],
   "source": [
    "tokenizer.encode(\".\")"
   ]
  },
  {
   "cell_type": "code",
   "execution_count": 11,
   "id": "6b2ec186-552d-4587-a1c5-b26e68159ab6",
   "metadata": {},
   "outputs": [
    {
     "data": {
      "text/plain": [
       "tensor([  432, 23504, 11632, 22407, 27150, 16361])"
      ]
     },
     "execution_count": 11,
     "metadata": {},
     "output_type": "execute_result"
    }
   ],
   "source": [
    "tokenizer.encode(\"Errare humanum est.\")"
   ]
  },
  {
   "cell_type": "code",
   "execution_count": 12,
   "id": "39866849-faf5-4647-97ec-dc83bf8c7645",
   "metadata": {},
   "outputs": [
    {
     "data": {
      "text/plain": [
       "tensor([11708, 23733, 16049, 25666, 31383, 17041, 19083,  5761,  4386, 14739,\n",
       "        24611,   432, 23504, 11632, 22407, 27150, 16361])"
      ]
     },
     "execution_count": 12,
     "metadata": {},
     "output_type": "execute_result"
    }
   ],
   "source": [
    "tokenizer.encode(\"Cogito ergo sum. Errare humanum est.\")"
   ]
  },
  {
   "cell_type": "code",
   "execution_count": 33,
   "id": "1845b213-567c-4f4e-93eb-b15973905510",
   "metadata": {},
   "outputs": [
    {
     "data": {
      "text/plain": [
       "tensor([17041, 19083,  5761,  4386, 14739, 24611,   432, 23504, 11632])"
      ]
     },
     "execution_count": 33,
     "metadata": {},
     "output_type": "execute_result"
    }
   ],
   "source": [
    "tokenizer.encode(\"sum. Errare\")"
   ]
  },
  {
   "cell_type": "code",
   "execution_count": 36,
   "id": "0001d790-711b-412d-88e3-0f2b1e9d4bf7",
   "metadata": {},
   "outputs": [
    {
     "data": {
      "text/plain": [
       "tensor([17041, 16361,   432, 23504, 11632])"
      ]
     },
     "execution_count": 36,
     "metadata": {},
     "output_type": "execute_result"
    }
   ],
   "source": [
    "tokenizer.encode(\"sum.Errare\")"
   ]
  },
  {
   "cell_type": "code",
   "execution_count": 37,
   "id": "01097a17-7d07-4138-9f84-56bbe0dfa8f3",
   "metadata": {},
   "outputs": [
    {
     "data": {
      "text/plain": [
       "tensor([19083,  5761,  4386, 14739, 24611])"
      ]
     },
     "execution_count": 37,
     "metadata": {},
     "output_type": "execute_result"
    }
   ],
   "source": [
    "tokenizer.encode(\". \")"
   ]
  },
  {
   "cell_type": "code",
   "execution_count": 39,
   "id": "6c7ceca0-ee58-4e38-a234-e048814f3615",
   "metadata": {},
   "outputs": [
    {
     "data": {
      "text/plain": [
       "tensor([ 5761,  4386, 14739, 24611])"
      ]
     },
     "execution_count": 39,
     "metadata": {},
     "output_type": "execute_result"
    }
   ],
   "source": [
    "tokenizer.encode(\" \")"
   ]
  },
  {
   "cell_type": "code",
   "execution_count": 40,
   "id": "64169c60-444f-464c-b5f5-d6507608460e",
   "metadata": {},
   "outputs": [
    {
     "data": {
      "text/plain": [
       "tensor([16361])"
      ]
     },
     "execution_count": 40,
     "metadata": {},
     "output_type": "execute_result"
    }
   ],
   "source": [
    "tokenizer.encode(\".\")"
   ]
  },
  {
   "cell_type": "code",
   "execution_count": 34,
   "id": "7372c062-b20a-4b48-b5c9-bcb8b9736d75",
   "metadata": {},
   "outputs": [
    {
     "data": {
      "text/plain": [
       "tensor([  432, 23504, 11632])"
      ]
     },
     "execution_count": 34,
     "metadata": {},
     "output_type": "execute_result"
    }
   ],
   "source": [
    "tokenizer.encode(\"Errare\")"
   ]
  },
  {
   "cell_type": "code",
   "execution_count": 42,
   "id": "ba263773-4648-44ec-a566-0a1af362eff2",
   "metadata": {},
   "outputs": [
    {
     "data": {
      "text/plain": [
       "tensor([15795])"
      ]
     },
     "execution_count": 42,
     "metadata": {},
     "output_type": "execute_result"
    }
   ],
   "source": [
    "tokenizer.encode(\"errare\")"
   ]
  },
  {
   "cell_type": "code",
   "execution_count": 35,
   "id": "3aef0d91-e18f-451c-bb2a-a4ad29c7d6e7",
   "metadata": {},
   "outputs": [
    {
     "data": {
      "text/plain": [
       "tensor([17041, 16361])"
      ]
     },
     "execution_count": 35,
     "metadata": {},
     "output_type": "execute_result"
    }
   ],
   "source": [
    "tokenizer.encode(\"sum.\")"
   ]
  },
  {
   "cell_type": "code",
   "execution_count": 31,
   "id": "dc7a859e-fe7b-4426-b1b9-b30ac28fee45",
   "metadata": {},
   "outputs": [
    {
     "data": {
      "text/plain": [
       "tensor([22407, 27150, 16361])"
      ]
     },
     "execution_count": 31,
     "metadata": {},
     "output_type": "execute_result"
    }
   ],
   "source": [
    "tokenizer.encode(\"humanum est.\")"
   ]
  },
  {
   "cell_type": "code",
   "execution_count": 45,
   "id": "4f6d296d-ccf5-4575-aa63-037ffb042e99",
   "metadata": {},
   "outputs": [
    {
     "data": {
      "text/plain": [
       "tensor([16398, 23733, 16049, 25666, 31383, 17041, 19083,  5761,  4386, 14739,\n",
       "        24611, 15795, 22407, 27150, 16361])"
      ]
     },
     "execution_count": 45,
     "metadata": {},
     "output_type": "execute_result"
    }
   ],
   "source": [
    "tokenizer.encode(\"Cogito ergo sum. Errare humanum est.\".lower())"
   ]
  },
  {
   "cell_type": "code",
   "execution_count": 63,
   "id": "0cc44b76-a844-4d90-9bf1-8f4fde9fa1f9",
   "metadata": {},
   "outputs": [],
   "source": [
    "dummy_tokenizer = LatinTokenizer([\"cogito_\", \"o_\"])"
   ]
  },
  {
   "cell_type": "code",
   "execution_count": 64,
   "id": "c16e2bd0-2bed-4b81-9f89-a84a8d8f4295",
   "metadata": {},
   "outputs": [
    {
     "data": {
      "text/plain": [
       "tensor([29])"
      ]
     },
     "execution_count": 64,
     "metadata": {},
     "output_type": "execute_result"
    }
   ],
   "source": [
    "dummy_tokenizer.encode(\"cogito\")"
   ]
  },
  {
   "cell_type": "code",
   "execution_count": 65,
   "id": "abef6545-9553-4254-a13d-b23db73737ff",
   "metadata": {},
   "outputs": [
    {
     "data": {
      "text/plain": [
       "tensor([46])"
      ]
     },
     "execution_count": 65,
     "metadata": {},
     "output_type": "execute_result"
    }
   ],
   "source": [
    "dummy_tokenizer.encode(\"o\")"
   ]
  },
  {
   "cell_type": "code",
   "execution_count": 66,
   "id": "df192337-45c7-49de-abea-5958384d7d75",
   "metadata": {},
   "outputs": [
    {
     "data": {
      "text/plain": [
       "tensor([23, 15, 37, 41,  5, 46])"
      ]
     },
     "execution_count": 66,
     "metadata": {},
     "output_type": "execute_result"
    }
   ],
   "source": [
    "dummy_tokenizer.encode(\"Cogito\")"
   ]
  },
  {
   "cell_type": "code",
   "execution_count": 99,
   "id": "8573c81a-df8c-4414-9b5b-6501b5e050ee",
   "metadata": {},
   "outputs": [
    {
     "data": {
      "text/plain": [
       "tensor([19, 15, 37, 41,  5, 32])"
      ]
     },
     "execution_count": 99,
     "metadata": {},
     "output_type": "execute_result"
    }
   ],
   "source": [
    "dummy_tokenizer.encode(\"cogit\")"
   ]
  },
  {
   "cell_type": "code",
   "execution_count": 67,
   "id": "ec7e8c36-4b78-4970-b267-27deb962b630",
   "metadata": {},
   "outputs": [],
   "source": [
    "from cltk.tokenizers.lat.lat import LatinPunktSentenceTokenizer as SentenceTokenizer\n",
    "from cltk.tokenizers.lat.lat import LatinWordTokenizer as WordTokenizer"
   ]
  },
  {
   "cell_type": "code",
   "execution_count": 68,
   "id": "0efd1492-ee93-4568-9f80-dbd300b191fd",
   "metadata": {},
   "outputs": [],
   "source": [
    "text = \"Cogito ergo sum. Errare humanum est.\".lower()"
   ]
  },
  {
   "cell_type": "code",
   "execution_count": 73,
   "id": "868c6c94-f133-4980-b13e-adab62533b35",
   "metadata": {},
   "outputs": [],
   "source": [
    "sentences = SentenceTokenizer().tokenize(text)"
   ]
  },
  {
   "cell_type": "code",
   "execution_count": 74,
   "id": "d0c62c83-28de-41c1-8698-061096a4cdd1",
   "metadata": {},
   "outputs": [
    {
     "data": {
      "text/plain": [
       "['cogito ergo sum.', 'errare humanum est.']"
      ]
     },
     "execution_count": 74,
     "metadata": {},
     "output_type": "execute_result"
    }
   ],
   "source": [
    "sentences"
   ]
  },
  {
   "cell_type": "code",
   "execution_count": 86,
   "id": "0a752538-e92f-4b22-a88c-3b5af05ca87c",
   "metadata": {},
   "outputs": [],
   "source": [
    "words = WordTokenizer().tokenize(\" \".join(sentences))"
   ]
  },
  {
   "cell_type": "code",
   "execution_count": 87,
   "id": "c742b962-f16d-4737-a66e-0cd02350ac03",
   "metadata": {},
   "outputs": [
    {
     "data": {
      "text/plain": [
       "['cogito', 'ergo', 'sum', '.', 'errare', 'humanum', 'est', '.']"
      ]
     },
     "execution_count": 87,
     "metadata": {},
     "output_type": "execute_result"
    }
   ],
   "source": [
    "words"
   ]
  },
  {
   "cell_type": "code",
   "execution_count": null,
   "id": "ccebae96-0781-4e3c-8cff-a1e960d21190",
   "metadata": {},
   "outputs": [],
   "source": [
    "tokenizer.encode(\" \".join(words)) "
   ]
  },
  {
   "cell_type": "code",
   "execution_count": 106,
   "id": "10a2a915-ea9d-4cf7-b030-f702434312df",
   "metadata": {},
   "outputs": [
    {
     "data": {
      "text/plain": [
       "'cogito ergo sum . errare humanum est .'"
      ]
     },
     "execution_count": 106,
     "metadata": {},
     "output_type": "execute_result"
    }
   ],
   "source": [
    "tokenizer.decode([16398, 23733, 16049, 25666, 31383, 17041,  5761,  4386, 14739,  3319,\n",
    "        19083,  5761,  4386, 14739, 24611, 15795, 22407, 27150,  5761,  4386,\n",
    "        14739,  3319, 16361])"
   ]
  },
  {
   "cell_type": "code",
   "execution_count": 90,
   "id": "161dca16-4085-450f-a488-b694792f85cb",
   "metadata": {},
   "outputs": [
    {
     "data": {
      "text/plain": [
       "tensor([16398, 23733, 16049, 25666])"
      ]
     },
     "execution_count": 90,
     "metadata": {},
     "output_type": "execute_result"
    }
   ],
   "source": [
    "tokenizer.encode(\"cogito\")"
   ]
  },
  {
   "cell_type": "code",
   "execution_count": 105,
   "id": "3bd04871-b069-4c21-a33f-b0f41aa5d1a7",
   "metadata": {},
   "outputs": [
    {
     "data": {
      "text/plain": [
       "'cogito'"
      ]
     },
     "execution_count": 105,
     "metadata": {},
     "output_type": "execute_result"
    }
   ],
   "source": [
    "tokenizer.decode([16398, 23733, 16049, 25666])"
   ]
  },
  {
   "cell_type": "code",
   "execution_count": 97,
   "id": "53779d51-9fef-44ce-b0b6-01642bb62a14",
   "metadata": {},
   "outputs": [
    {
     "data": {
      "text/plain": [
       "tensor([12932])"
      ]
     },
     "execution_count": 97,
     "metadata": {},
     "output_type": "execute_result"
    }
   ],
   "source": [
    "tokenizer.encode(\"cogitare\")"
   ]
  },
  {
   "cell_type": "code",
   "execution_count": 98,
   "id": "100b446e-7f9a-42e5-8f27-223628ecf203",
   "metadata": {},
   "outputs": [
    {
     "data": {
      "text/plain": [
       "tensor([25099])"
      ]
     },
     "execution_count": 98,
     "metadata": {},
     "output_type": "execute_result"
    }
   ],
   "source": [
    "tokenizer.encode(\"cogit\")"
   ]
  },
  {
   "cell_type": "code",
   "execution_count": 100,
   "id": "d6208fd1-3def-454a-921b-d240183e10b7",
   "metadata": {},
   "outputs": [
    {
     "data": {
      "text/plain": [
       "tensor([16398, 23733, 16049,  9077])"
      ]
     },
     "execution_count": 100,
     "metadata": {},
     "output_type": "execute_result"
    }
   ],
   "source": [
    "tokenizer.encode(\"cogitas\")"
   ]
  },
  {
   "cell_type": "code",
   "execution_count": 101,
   "id": "9afe6ec5-ae12-4414-bf73-1747c753fa01",
   "metadata": {},
   "outputs": [
    {
     "data": {
      "text/plain": [
       "tensor([27150])"
      ]
     },
     "execution_count": 101,
     "metadata": {},
     "output_type": "execute_result"
    }
   ],
   "source": [
    "tokenizer.encode(\"est\")"
   ]
  },
  {
   "cell_type": "code",
   "execution_count": 103,
   "id": "8a1996aa-bca5-4d69-ab03-fe956a38959e",
   "metadata": {},
   "outputs": [
    {
     "data": {
      "text/plain": [
       "tensor([17245])"
      ]
     },
     "execution_count": 103,
     "metadata": {},
     "output_type": "execute_result"
    }
   ],
   "source": [
    "tokenizer.encode(\"errat\")"
   ]
  },
  {
   "cell_type": "code",
   "execution_count": 104,
   "id": "f2c83562-b041-4e3e-80fb-279d83b351c6",
   "metadata": {},
   "outputs": [
    {
     "data": {
      "text/plain": [
       "tensor([8081])"
      ]
     },
     "execution_count": 104,
     "metadata": {},
     "output_type": "execute_result"
    }
   ],
   "source": [
    "tokenizer.encode(\"cogitat\")"
   ]
  },
  {
   "cell_type": "code",
   "execution_count": 23,
   "id": "a03b5974-fbc1-4092-8254-5fa46e07e9f5",
   "metadata": {},
   "outputs": [
    {
     "data": {
      "text/plain": [
       "[{'type': 'text',\n",
       "  'name': 'lat_text_perseus',\n",
       "  'origin': 'https://github.com/cltk/lat_text_perseus.git'},\n",
       " {'name': 'lat_treebank_perseus',\n",
       "  'origin': 'https://github.com/cltk/lat_treebank_perseus.git',\n",
       "  'type': 'treebank'},\n",
       " {'name': 'lat_text_latin_library',\n",
       "  'origin': 'https://github.com/cltk/lat_text_latin_library.git',\n",
       "  'type': 'text'},\n",
       " {'location': 'local', 'name': 'phi5', 'origin': None, 'type': 'text'},\n",
       " {'origin': None, 'name': 'phi7', 'location': 'local', 'type': 'text'},\n",
       " {'name': 'latin_proper_names_cltk',\n",
       "  'origin': 'https://github.com/cltk/latin_proper_names_cltk.git',\n",
       "  'type': 'lexicon'},\n",
       " {'origin': 'https://github.com/cltk/lat_models_cltk.git',\n",
       "  'name': 'lat_models_cltk',\n",
       "  'type': 'model'},\n",
       " {'name': 'latin_pos_lemmata_cltk',\n",
       "  'origin': 'https://github.com/cltk/latin_pos_lemmata_cltk.git',\n",
       "  'type': 'lemma'},\n",
       " {'name': 'latin_treebank_index_thomisticus',\n",
       "  'origin': 'https://github.com/cltk/latin_treebank_index_thomisticus.git',\n",
       "  'type': 'treebank'},\n",
       " {'name': 'latin_lexica_perseus',\n",
       "  'origin': 'https://github.com/cltk/latin_lexica_perseus.git',\n",
       "  'type': 'lexicon'},\n",
       " {'name': 'latin_training_set_sentence_cltk',\n",
       "  'origin': 'https://github.com/cltk/latin_training_set_sentence_cltk.git',\n",
       "  'type': 'training_set'},\n",
       " {'origin': 'https://github.com/cltk/latin_word2vec_cltk.git',\n",
       "  'name': 'latin_word2vec_cltk',\n",
       "  'type': 'model'},\n",
       " {'type': 'text',\n",
       "  'name': 'latin_text_antique_digiliblt',\n",
       "  'origin': 'https://github.com/cltk/latin_text_antique_digiliblt.git'},\n",
       " {'type': 'text',\n",
       "  'name': 'latin_text_corpus_grammaticorum_latinorum',\n",
       "  'origin': 'https://github.com/cltk/latin_text_corpus_grammaticorum_latinorum.git'},\n",
       " {'type': 'text',\n",
       "  'name': 'latin_text_poeti_ditalia',\n",
       "  'origin': 'https://github.com/cltk/latin_text_poeti_ditalia.git'},\n",
       " {'name': 'lat_text_tesserae',\n",
       "  'origin': 'https://github.com/cltk/lat_text_tesserae.git',\n",
       "  'type': 'text'},\n",
       " {'type': 'lexicon',\n",
       "  'name': 'cltk_lat_lewis_elementary_lexicon',\n",
       "  'origin': 'https://github.com/cltk/cltk_lat_lewis_elementary_lexicon.git'}]"
      ]
     },
     "execution_count": 23,
     "metadata": {},
     "output_type": "execute_result"
    }
   ],
   "source": [
    "corpus_downloader.all_corpora_for_lang"
   ]
  },
  {
   "cell_type": "code",
   "execution_count": 24,
   "id": "de0f2081-ec50-4cf8-a4e3-de59bbcdea54",
   "metadata": {},
   "outputs": [
    {
     "name": "stdout",
     "output_type": "stream",
     "text": [
      "Downloaded 100% 7.52 MiB | 2.09 MiB/s \r"
     ]
    }
   ],
   "source": [
    "corpus_downloader.import_corpus(\"latin_text_antique_digiliblt\")"
   ]
  },
  {
   "cell_type": "code",
   "execution_count": 29,
   "id": "322b9c14-daf6-4296-99e6-500ca04fbc1a",
   "metadata": {},
   "outputs": [
    {
     "ename": "ModuleNotFoundError",
     "evalue": "No module named 'cltk.corpus'",
     "output_type": "error",
     "traceback": [
      "\u001b[0;31m---------------------------------------------------------------------------\u001b[0m",
      "\u001b[0;31mModuleNotFoundError\u001b[0m                       Traceback (most recent call last)",
      "Cell \u001b[0;32mIn[29], line 1\u001b[0m\n\u001b[0;32m----> 1\u001b[0m \u001b[38;5;28;01mfrom\u001b[39;00m \u001b[38;5;21;01mcltk\u001b[39;00m\u001b[38;5;21;01m.\u001b[39;00m\u001b[38;5;21;01mcorpus\u001b[39;00m\u001b[38;5;21;01m.\u001b[39;00m\u001b[38;5;21;01mreader\u001b[39;00m \u001b[38;5;28;01mimport\u001b[39;00m get_corpus_reader\n",
      "\u001b[0;31mModuleNotFoundError\u001b[0m: No module named 'cltk.corpus'"
     ]
    }
   ],
   "source": [
    "from cltk."
   ]
  },
  {
   "cell_type": "code",
   "execution_count": null,
   "id": "6d021e0d-b193-4b0e-8090-f3085bb69692",
   "metadata": {},
   "outputs": [],
   "source": []
  }
 ],
 "metadata": {
  "kernelspec": {
   "display_name": "Python 3 (ipykernel)",
   "language": "python",
   "name": "python3"
  },
  "language_info": {
   "codemirror_mode": {
    "name": "ipython",
    "version": 3
   },
   "file_extension": ".py",
   "mimetype": "text/x-python",
   "name": "python",
   "nbconvert_exporter": "python",
   "pygments_lexer": "ipython3",
   "version": "3.9.10"
  }
 },
 "nbformat": 4,
 "nbformat_minor": 5
}
