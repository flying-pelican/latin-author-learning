{
 "cells": [
  {
   "cell_type": "code",
   "execution_count": 1,
   "id": "3630e652-2b92-4d7f-a41e-3b720fd3eb9f",
   "metadata": {},
   "outputs": [],
   "source": [
    "from pathlib import Path\n",
    "import fasttext\n",
    "from fasttext import util as ftu"
   ]
  },
  {
   "cell_type": "code",
   "execution_count": 3,
   "id": "29d85e90-de0c-46ce-b3b9-5bc8d328ee2e",
   "metadata": {},
   "outputs": [],
   "source": [
    "vec_file = Path(\"/Users/stm/cltk_data/cc.la.300.bin\")"
   ]
  },
  {
   "cell_type": "code",
   "execution_count": 4,
   "id": "dae01f1a-9ec9-4ff8-962a-6649f9b67c21",
   "metadata": {},
   "outputs": [
    {
     "data": {
      "text/plain": [
       "True"
      ]
     },
     "execution_count": 4,
     "metadata": {},
     "output_type": "execute_result"
    }
   ],
   "source": [
    "vec_file.exists()"
   ]
  },
  {
   "cell_type": "code",
   "execution_count": 5,
   "id": "454ce068-f521-44f5-885e-1b163694b00c",
   "metadata": {},
   "outputs": [],
   "source": [
    "embeddings = fasttext.load_model(str(vec_file))"
   ]
  },
  {
   "cell_type": "code",
   "execution_count": 11,
   "id": "870f9092-f9c3-4ddd-ba68-1a7c5afd7139",
   "metadata": {},
   "outputs": [
    {
     "data": {
      "text/plain": [
       "300"
      ]
     },
     "execution_count": 11,
     "metadata": {},
     "output_type": "execute_result"
    }
   ],
   "source": [
    "embeddings.get_dimension()"
   ]
  },
  {
   "cell_type": "code",
   "execution_count": 14,
   "id": "fb1ec953-6898-404c-a592-a00967e03e55",
   "metadata": {},
   "outputs": [
    {
     "data": {
      "text/plain": [
       "<fasttext.FastText._FastText at 0x104dca550>"
      ]
     },
     "execution_count": 14,
     "metadata": {},
     "output_type": "execute_result"
    }
   ],
   "source": [
    "ftu.reduce_model(embeddings, 100)"
   ]
  },
  {
   "cell_type": "code",
   "execution_count": 6,
   "id": "1d0f40af-c979-4ece-a81e-223a9752e3d9",
   "metadata": {},
   "outputs": [
    {
     "data": {
      "text/plain": [
       "100"
      ]
     },
     "execution_count": 6,
     "metadata": {},
     "output_type": "execute_result"
    }
   ],
   "source": [
    "embeddings.get_dimension()"
   ]
  },
  {
   "cell_type": "code",
   "execution_count": 16,
   "id": "29a25480-d513-4711-a343-f16e9f8e908e",
   "metadata": {},
   "outputs": [],
   "source": [
    "embeddings.save_model(str(vec_file).replace(\"300\", \"100\"))"
   ]
  },
  {
   "cell_type": "code",
   "execution_count": 7,
   "id": "ce7acf03-7eae-4ea6-9f0a-809f61dffeff",
   "metadata": {},
   "outputs": [
    {
     "name": "stderr",
     "output_type": "stream",
     "text": [
      "/Users/stm/Library/Caches/pypoetry/virtualenvs/latin-author-learning-nqRTE_o3-py3.9/lib/python3.9/site-packages/urllib3/__init__.py:34: NotOpenSSLWarning: urllib3 v2 only supports OpenSSL 1.1.1+, currently the 'ssl' module is compiled with 'LibreSSL 2.8.3'. See: https://github.com/urllib3/urllib3/issues/3020\n",
      "  warnings.warn(\n"
     ]
    }
   ],
   "source": [
    "from latin_author_learning.fasttext_wrapper import model_to_vec_str"
   ]
  },
  {
   "cell_type": "code",
   "execution_count": 8,
   "id": "ca2e33c9-43c5-43a4-901e-d87464f0a74f",
   "metadata": {},
   "outputs": [],
   "source": [
    "vec_str = model_to_vec_str(embeddings)"
   ]
  },
  {
   "cell_type": "code",
   "execution_count": 2,
   "id": "33891352-4c65-4845-82ed-6e6d26d2ac76",
   "metadata": {},
   "outputs": [],
   "source": [
    "from pathlib import Path\n",
    "import os"
   ]
  },
  {
   "cell_type": "code",
   "execution_count": 3,
   "id": "e0060c4f-10ff-4992-b985-45398b0db097",
   "metadata": {},
   "outputs": [],
   "source": [
    "cltk_path = Path(os.environ[\"HOME\"]) / \"cltk_data\" / \"lat\" / \"text\""
   ]
  },
  {
   "cell_type": "code",
   "execution_count": 4,
   "id": "adbfb879-0189-4121-a9fd-d8c1a8db32ce",
   "metadata": {},
   "outputs": [],
   "source": [
    "perseus_path = cltk_path / \"lat_text_perseus\""
   ]
  },
  {
   "cell_type": "code",
   "execution_count": 13,
   "id": "b6ba4376-2e83-40bd-b8c6-869097380846",
   "metadata": {},
   "outputs": [],
   "source": [
    "vec_path = cltk_path / \"cc.la.100.vec\""
   ]
  },
  {
   "cell_type": "code",
   "execution_count": 13,
   "id": "fe221225-92b2-4ce9-9303-a80673f56fb8",
   "metadata": {},
   "outputs": [],
   "source": [
    "with open(vec_path, \"w\") as f:\n",
    "    f.write(vec_str)"
   ]
  },
  {
   "cell_type": "code",
   "execution_count": 5,
   "id": "e8e7bec9-5b99-4602-9b52-650d79c7d535",
   "metadata": {},
   "outputs": [],
   "source": [
    "from latin_author_learning.corpus import Corpus"
   ]
  },
  {
   "cell_type": "code",
   "execution_count": 6,
   "id": "7aa4431f-728a-4f4b-921f-c85cc0e50d65",
   "metadata": {},
   "outputs": [],
   "source": [
    "perseus = Corpus(\"lat_text_perseus\")"
   ]
  },
  {
   "cell_type": "code",
   "execution_count": 7,
   "id": "0c124110-babf-4fd5-8e18-8b6ff3eb24e1",
   "metadata": {},
   "outputs": [],
   "source": [
    "perseus.add_data_from_files(\n",
    "    perseus_path,\n",
    "    filename_contains=\"_lat.\",\n",
    "    meta_keys=[\"fileDesc\", \"teiHeader\"],\n",
    "    meta_key_prefix=\"@\", \n",
    ")"
   ]
  },
  {
   "cell_type": "code",
   "execution_count": 8,
   "id": "d973b901-d405-4d12-9dab-b85df2ee23a1",
   "metadata": {},
   "outputs": [
    {
     "name": "stderr",
     "output_type": "stream",
     "text": [
      "/Users/stm/Library/Caches/pypoetry/virtualenvs/latin-author-learning-nqRTE_o3-py3.9/lib/python3.9/site-packages/urllib3/__init__.py:34: NotOpenSSLWarning: urllib3 v2 only supports OpenSSL 1.1.1+, currently the 'ssl' module is compiled with 'LibreSSL 2.8.3'. See: https://github.com/urllib3/urllib3/issues/3020\n",
      "  warnings.warn(\n"
     ]
    }
   ],
   "source": [
    "from latin_author_learning.fasttext_wrapper import DatasetWrapper"
   ]
  },
  {
   "cell_type": "code",
   "execution_count": 9,
   "id": "2338e4e1-265f-419d-9d63-deb1ae42a3af",
   "metadata": {},
   "outputs": [],
   "source": [
    "ds = DatasetWrapper(corpus=perseus, fraction_for_test=0.2)"
   ]
  },
  {
   "cell_type": "code",
   "execution_count": 10,
   "id": "06cce7f2-63a3-494d-8a76-619f2fd10840",
   "metadata": {},
   "outputs": [],
   "source": [
    "trainfile = cltk_path / \"perseues_train.txt\"\n",
    "ds.get_training_data(trainfile)"
   ]
  },
  {
   "cell_type": "code",
   "execution_count": 11,
   "id": "2e4140a0-2662-4571-8b9c-fbb22a63394b",
   "metadata": {},
   "outputs": [],
   "source": [
    "valid_file = cltk_path / \"perseues_valid.txt\"\n",
    "ds.get_validation_data(valid_file)"
   ]
  },
  {
   "cell_type": "code",
   "execution_count": 16,
   "id": "73134b11-3dab-40fe-952d-cf2506dfe57f",
   "metadata": {},
   "outputs": [
    {
     "name": "stderr",
     "output_type": "stream",
     "text": [
      "Read 3M words\n",
      "Number of words:  392447\n",
      "Number of labels: 23\n",
      "Progress: 100.0% words/sec/thread: 2958989 lr:  0.000000 avg.loss:  0.051756 ETA:   0h 0m 0s\n"
     ]
    }
   ],
   "source": [
    "author_model = fasttext.train_supervised(\n",
    "    input=str(trainfile), dim=100, lr=1., thread=6,\n",
    "    pretrainedVectors=str(vec_path),\n",
    "    epoch=1000,\n",
    ")"
   ]
  },
  {
   "cell_type": "code",
   "execution_count": 17,
   "id": "a11c20c3-09c0-4b13-9348-f9eff988f4e9",
   "metadata": {},
   "outputs": [
    {
     "data": {
      "text/plain": [
       "(43, 0.8837209302325582, 0.8837209302325582)"
      ]
     },
     "execution_count": 17,
     "metadata": {},
     "output_type": "execute_result"
    }
   ],
   "source": [
    "author_model.test(str(valid_file))"
   ]
  },
  {
   "cell_type": "code",
   "execution_count": null,
   "id": "be6cce01-bf39-484f-b8e4-ce98fd7c16d9",
   "metadata": {},
   "outputs": [],
   "source": []
  }
 ],
 "metadata": {
  "kernelspec": {
   "display_name": "Python 3 (ipykernel)",
   "language": "python",
   "name": "python3"
  },
  "language_info": {
   "codemirror_mode": {
    "name": "ipython",
    "version": 3
   },
   "file_extension": ".py",
   "mimetype": "text/x-python",
   "name": "python",
   "nbconvert_exporter": "python",
   "pygments_lexer": "ipython3",
   "version": "3.9.6"
  }
 },
 "nbformat": 4,
 "nbformat_minor": 5
}
